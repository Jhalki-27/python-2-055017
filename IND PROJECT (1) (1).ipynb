{
 "cells": [
  {
   "cell_type": "code",
   "execution_count": 15,
   "id": "93ede6d1-59e5-4556-8eac-20e3f440c726",
   "metadata": {},
   "outputs": [],
   "source": [
    "#Loading all the necessary libraries\n",
    "import os\n",
    "import pandas as pd\n",
    "import numpy as np\n",
    "from scipy.stats import levene\n",
    "from scipy.stats import skew\n",
    "from scipy.stats import kurtosis\n",
    "from scipy.stats import shapiro\n",
    "import matplotlib.pyplot as plt\n",
    "import streamlit as st"
   ]
  },
  {
   "cell_type": "code",
   "execution_count": 19,
   "id": "c50a1254-fc78-43e6-9213-4149654a4157",
   "metadata": {},
   "outputs": [
    {
     "data": {
      "text/html": [
       "<div>\n",
       "<style scoped>\n",
       "    .dataframe tbody tr th:only-of-type {\n",
       "        vertical-align: middle;\n",
       "    }\n",
       "\n",
       "    .dataframe tbody tr th {\n",
       "        vertical-align: top;\n",
       "    }\n",
       "\n",
       "    .dataframe thead th {\n",
       "        text-align: right;\n",
       "    }\n",
       "</style>\n",
       "<table border=\"1\" class=\"dataframe\">\n",
       "  <thead>\n",
       "    <tr style=\"text-align: right;\">\n",
       "      <th></th>\n",
       "      <th>Transaction_ID</th>\n",
       "      <th>Country</th>\n",
       "      <th>Product</th>\n",
       "      <th>Import_Export</th>\n",
       "      <th>Quantity</th>\n",
       "      <th>Value</th>\n",
       "      <th>Date</th>\n",
       "      <th>Category</th>\n",
       "      <th>Port</th>\n",
       "      <th>Customs_Code</th>\n",
       "      <th>Weight</th>\n",
       "      <th>Shipping_Method</th>\n",
       "      <th>Supplier</th>\n",
       "      <th>Customer</th>\n",
       "      <th>Invoice_Number</th>\n",
       "      <th>Payment_Terms</th>\n",
       "    </tr>\n",
       "  </thead>\n",
       "  <tbody>\n",
       "    <tr>\n",
       "      <th>0</th>\n",
       "      <td>e3e70682-c209-4cac-a29f-6fbed82c07cd</td>\n",
       "      <td>Colombia</td>\n",
       "      <td>describe</td>\n",
       "      <td>Export</td>\n",
       "      <td>1979</td>\n",
       "      <td>9506.57</td>\n",
       "      <td>07-12-2023</td>\n",
       "      <td>Machinery</td>\n",
       "      <td>Robertbury</td>\n",
       "      <td>620537</td>\n",
       "      <td>4248.65</td>\n",
       "      <td>Air</td>\n",
       "      <td>Garrison, Hubbard and Hendricks</td>\n",
       "      <td>Seth Hall</td>\n",
       "      <td>21000294</td>\n",
       "      <td>Cash on Delivery</td>\n",
       "    </tr>\n",
       "    <tr>\n",
       "      <th>1</th>\n",
       "      <td>f728b4fa-4248-4e3a-8a5d-2f346baa9455</td>\n",
       "      <td>Chile</td>\n",
       "      <td>president</td>\n",
       "      <td>Export</td>\n",
       "      <td>5763</td>\n",
       "      <td>7100.91</td>\n",
       "      <td>04-04-2023</td>\n",
       "      <td>Clothing</td>\n",
       "      <td>Shahport</td>\n",
       "      <td>927600</td>\n",
       "      <td>4340.81</td>\n",
       "      <td>Air</td>\n",
       "      <td>Webb-Mack</td>\n",
       "      <td>Kimberly Ryan</td>\n",
       "      <td>88738432</td>\n",
       "      <td>Prepaid</td>\n",
       "    </tr>\n",
       "    <tr>\n",
       "      <th>2</th>\n",
       "      <td>eb1167b3-67a9-4378-bc65-c1e582e2e662</td>\n",
       "      <td>Turkey</td>\n",
       "      <td>far</td>\n",
       "      <td>Import</td>\n",
       "      <td>5740</td>\n",
       "      <td>2450.34</td>\n",
       "      <td>21-08-2024</td>\n",
       "      <td>Electronics</td>\n",
       "      <td>South Joshuatown</td>\n",
       "      <td>299258</td>\n",
       "      <td>4538.41</td>\n",
       "      <td>Air</td>\n",
       "      <td>Mendez, Jones and Johnson</td>\n",
       "      <td>Ryan Silva</td>\n",
       "      <td>89922099</td>\n",
       "      <td>Prepaid</td>\n",
       "    </tr>\n",
       "    <tr>\n",
       "      <th>3</th>\n",
       "      <td>f7c1bd87-4da5-4709-9471-3d60c8a70639</td>\n",
       "      <td>Christmas Island</td>\n",
       "      <td>agency</td>\n",
       "      <td>Export</td>\n",
       "      <td>2592</td>\n",
       "      <td>7226.42</td>\n",
       "      <td>09-05-2022</td>\n",
       "      <td>Furniture</td>\n",
       "      <td>Adamfort</td>\n",
       "      <td>996084</td>\n",
       "      <td>4886.14</td>\n",
       "      <td>Air</td>\n",
       "      <td>Schroeder-Smith</td>\n",
       "      <td>Jacob Gray</td>\n",
       "      <td>63216265</td>\n",
       "      <td>Net 60</td>\n",
       "    </tr>\n",
       "    <tr>\n",
       "      <th>4</th>\n",
       "      <td>e443df78-9558-467f-9ba9-1faf7a024204</td>\n",
       "      <td>Finland</td>\n",
       "      <td>policy</td>\n",
       "      <td>Export</td>\n",
       "      <td>2622</td>\n",
       "      <td>2817.29</td>\n",
       "      <td>03-04-2023</td>\n",
       "      <td>Electronics</td>\n",
       "      <td>Juliebury</td>\n",
       "      <td>555981</td>\n",
       "      <td>4406.74</td>\n",
       "      <td>Air</td>\n",
       "      <td>Zimmerman LLC</td>\n",
       "      <td>Amy Stephens</td>\n",
       "      <td>94600248</td>\n",
       "      <td>Cash on Delivery</td>\n",
       "    </tr>\n",
       "    <tr>\n",
       "      <th>...</th>\n",
       "      <td>...</td>\n",
       "      <td>...</td>\n",
       "      <td>...</td>\n",
       "      <td>...</td>\n",
       "      <td>...</td>\n",
       "      <td>...</td>\n",
       "      <td>...</td>\n",
       "      <td>...</td>\n",
       "      <td>...</td>\n",
       "      <td>...</td>\n",
       "      <td>...</td>\n",
       "      <td>...</td>\n",
       "      <td>...</td>\n",
       "      <td>...</td>\n",
       "      <td>...</td>\n",
       "      <td>...</td>\n",
       "    </tr>\n",
       "    <tr>\n",
       "      <th>14995</th>\n",
       "      <td>48df15a8-0823-4964-8c16-eddf2756f382</td>\n",
       "      <td>Marshall Islands</td>\n",
       "      <td>not</td>\n",
       "      <td>Export</td>\n",
       "      <td>2860</td>\n",
       "      <td>2055.19</td>\n",
       "      <td>09-07-2024</td>\n",
       "      <td>Furniture</td>\n",
       "      <td>South Karenfort</td>\n",
       "      <td>393463</td>\n",
       "      <td>4120.35</td>\n",
       "      <td>Land</td>\n",
       "      <td>Smith-Lewis</td>\n",
       "      <td>Darlene Davis</td>\n",
       "      <td>29605073</td>\n",
       "      <td>Net 60</td>\n",
       "    </tr>\n",
       "    <tr>\n",
       "      <th>14996</th>\n",
       "      <td>31106617-94a6-4646-a001-5e7bd45abc26</td>\n",
       "      <td>Bermuda</td>\n",
       "      <td>air</td>\n",
       "      <td>Export</td>\n",
       "      <td>2443</td>\n",
       "      <td>6407.06</td>\n",
       "      <td>18-06-2024</td>\n",
       "      <td>Furniture</td>\n",
       "      <td>Jeffreyside</td>\n",
       "      <td>484143</td>\n",
       "      <td>1832.71</td>\n",
       "      <td>Air</td>\n",
       "      <td>Jones Group</td>\n",
       "      <td>John Ramos</td>\n",
       "      <td>39044695</td>\n",
       "      <td>Cash on Delivery</td>\n",
       "    </tr>\n",
       "    <tr>\n",
       "      <th>14997</th>\n",
       "      <td>ee485839-fbde-4ced-af18-d98f5e863081</td>\n",
       "      <td>Tanzania</td>\n",
       "      <td>show</td>\n",
       "      <td>Export</td>\n",
       "      <td>1702</td>\n",
       "      <td>9918.29</td>\n",
       "      <td>30-04-2020</td>\n",
       "      <td>Toys</td>\n",
       "      <td>North Meganborough</td>\n",
       "      <td>354935</td>\n",
       "      <td>4203.52</td>\n",
       "      <td>Land</td>\n",
       "      <td>Barnes-Romero</td>\n",
       "      <td>Rebecca Phelps</td>\n",
       "      <td>78492040</td>\n",
       "      <td>Net 30</td>\n",
       "    </tr>\n",
       "    <tr>\n",
       "      <th>14998</th>\n",
       "      <td>5acd54aa-ec8c-4055-be8b-a447861a471c</td>\n",
       "      <td>Tuvalu</td>\n",
       "      <td>TV</td>\n",
       "      <td>Export</td>\n",
       "      <td>8108</td>\n",
       "      <td>9288.57</td>\n",
       "      <td>29-04-2021</td>\n",
       "      <td>Clothing</td>\n",
       "      <td>Villafurt</td>\n",
       "      <td>234296</td>\n",
       "      <td>1597.72</td>\n",
       "      <td>Land</td>\n",
       "      <td>Smith, Allison and Bennett</td>\n",
       "      <td>Scott Yates</td>\n",
       "      <td>20799602</td>\n",
       "      <td>Cash on Delivery</td>\n",
       "    </tr>\n",
       "    <tr>\n",
       "      <th>14999</th>\n",
       "      <td>5cc039d0-a052-41fd-bfbb-c9f60c4565ac</td>\n",
       "      <td>North Macedonia</td>\n",
       "      <td>year</td>\n",
       "      <td>Import</td>\n",
       "      <td>5635</td>\n",
       "      <td>561.33</td>\n",
       "      <td>25-12-2019</td>\n",
       "      <td>Clothing</td>\n",
       "      <td>West Gary</td>\n",
       "      <td>766709</td>\n",
       "      <td>2913.82</td>\n",
       "      <td>Air</td>\n",
       "      <td>Fleming-Miles</td>\n",
       "      <td>Steven Young</td>\n",
       "      <td>79237293</td>\n",
       "      <td>Net 30</td>\n",
       "    </tr>\n",
       "  </tbody>\n",
       "</table>\n",
       "<p>15000 rows × 16 columns</p>\n",
       "</div>"
      ],
      "text/plain": [
       "                             Transaction_ID           Country    Product  \\\n",
       "0      e3e70682-c209-4cac-a29f-6fbed82c07cd          Colombia   describe   \n",
       "1      f728b4fa-4248-4e3a-8a5d-2f346baa9455             Chile  president   \n",
       "2      eb1167b3-67a9-4378-bc65-c1e582e2e662            Turkey        far   \n",
       "3      f7c1bd87-4da5-4709-9471-3d60c8a70639  Christmas Island     agency   \n",
       "4      e443df78-9558-467f-9ba9-1faf7a024204           Finland     policy   \n",
       "...                                     ...               ...        ...   \n",
       "14995  48df15a8-0823-4964-8c16-eddf2756f382  Marshall Islands        not   \n",
       "14996  31106617-94a6-4646-a001-5e7bd45abc26           Bermuda        air   \n",
       "14997  ee485839-fbde-4ced-af18-d98f5e863081          Tanzania       show   \n",
       "14998  5acd54aa-ec8c-4055-be8b-a447861a471c            Tuvalu         TV   \n",
       "14999  5cc039d0-a052-41fd-bfbb-c9f60c4565ac   North Macedonia       year   \n",
       "\n",
       "      Import_Export  Quantity    Value        Date     Category  \\\n",
       "0            Export      1979  9506.57  07-12-2023    Machinery   \n",
       "1            Export      5763  7100.91  04-04-2023     Clothing   \n",
       "2            Import      5740  2450.34  21-08-2024  Electronics   \n",
       "3            Export      2592  7226.42  09-05-2022    Furniture   \n",
       "4            Export      2622  2817.29  03-04-2023  Electronics   \n",
       "...             ...       ...      ...         ...          ...   \n",
       "14995        Export      2860  2055.19  09-07-2024    Furniture   \n",
       "14996        Export      2443  6407.06  18-06-2024    Furniture   \n",
       "14997        Export      1702  9918.29  30-04-2020         Toys   \n",
       "14998        Export      8108  9288.57  29-04-2021     Clothing   \n",
       "14999        Import      5635   561.33  25-12-2019     Clothing   \n",
       "\n",
       "                     Port  Customs_Code   Weight Shipping_Method  \\\n",
       "0              Robertbury        620537  4248.65             Air   \n",
       "1                Shahport        927600  4340.81             Air   \n",
       "2        South Joshuatown        299258  4538.41             Air   \n",
       "3                Adamfort        996084  4886.14             Air   \n",
       "4               Juliebury        555981  4406.74             Air   \n",
       "...                   ...           ...      ...             ...   \n",
       "14995     South Karenfort        393463  4120.35            Land   \n",
       "14996         Jeffreyside        484143  1832.71             Air   \n",
       "14997  North Meganborough        354935  4203.52            Land   \n",
       "14998           Villafurt        234296  1597.72            Land   \n",
       "14999           West Gary        766709  2913.82             Air   \n",
       "\n",
       "                              Supplier        Customer  Invoice_Number  \\\n",
       "0      Garrison, Hubbard and Hendricks       Seth Hall        21000294   \n",
       "1                            Webb-Mack   Kimberly Ryan        88738432   \n",
       "2            Mendez, Jones and Johnson      Ryan Silva        89922099   \n",
       "3                      Schroeder-Smith      Jacob Gray        63216265   \n",
       "4                        Zimmerman LLC    Amy Stephens        94600248   \n",
       "...                                ...             ...             ...   \n",
       "14995                      Smith-Lewis   Darlene Davis        29605073   \n",
       "14996                      Jones Group      John Ramos        39044695   \n",
       "14997                    Barnes-Romero  Rebecca Phelps        78492040   \n",
       "14998       Smith, Allison and Bennett     Scott Yates        20799602   \n",
       "14999                    Fleming-Miles    Steven Young        79237293   \n",
       "\n",
       "          Payment_Terms  \n",
       "0      Cash on Delivery  \n",
       "1               Prepaid  \n",
       "2               Prepaid  \n",
       "3                Net 60  \n",
       "4      Cash on Delivery  \n",
       "...                 ...  \n",
       "14995            Net 60  \n",
       "14996  Cash on Delivery  \n",
       "14997            Net 30  \n",
       "14998  Cash on Delivery  \n",
       "14999            Net 30  \n",
       "\n",
       "[15000 rows x 16 columns]"
      ]
     },
     "execution_count": 19,
     "metadata": {},
     "output_type": "execute_result"
    }
   ],
   "source": [
    "#Loading the Data.\n",
    "df=pd.read_csv(\"C:\\\\Users\\\\jhalk\\\\OneDrive\\\\Desktop\\\\PYTHON\\\\Imports_Exports_Dataset.csv\")\n",
    "df"
   ]
  },
  {
   "cell_type": "code",
   "execution_count": 7,
   "id": "95432e65-322c-4d62-97ea-265382cee34b",
   "metadata": {},
   "outputs": [
    {
     "data": {
      "text/plain": [
       "(15000, 16)"
      ]
     },
     "execution_count": 7,
     "metadata": {},
     "output_type": "execute_result"
    }
   ],
   "source": [
    "#Displaying the Dimensions of Test Data.\n",
    "df.shape"
   ]
  },
  {
   "cell_type": "code",
   "execution_count": 9,
   "id": "b7da9365-ead8-4e0e-b2d3-4e65d737b876",
   "metadata": {},
   "outputs": [
    {
     "data": {
      "text/html": [
       "<div>\n",
       "<style scoped>\n",
       "    .dataframe tbody tr th:only-of-type {\n",
       "        vertical-align: middle;\n",
       "    }\n",
       "\n",
       "    .dataframe tbody tr th {\n",
       "        vertical-align: top;\n",
       "    }\n",
       "\n",
       "    .dataframe thead th {\n",
       "        text-align: right;\n",
       "    }\n",
       "</style>\n",
       "<table border=\"1\" class=\"dataframe\">\n",
       "  <thead>\n",
       "    <tr style=\"text-align: right;\">\n",
       "      <th></th>\n",
       "      <th>Transaction_ID</th>\n",
       "      <th>Country</th>\n",
       "      <th>Product</th>\n",
       "      <th>Import_Export</th>\n",
       "      <th>Quantity</th>\n",
       "      <th>Value</th>\n",
       "      <th>Date</th>\n",
       "      <th>Category</th>\n",
       "      <th>Port</th>\n",
       "      <th>Customs_Code</th>\n",
       "      <th>Weight</th>\n",
       "      <th>Shipping_Method</th>\n",
       "      <th>Supplier</th>\n",
       "      <th>Customer</th>\n",
       "      <th>Invoice_Number</th>\n",
       "      <th>Payment_Terms</th>\n",
       "    </tr>\n",
       "  </thead>\n",
       "  <tbody>\n",
       "    <tr>\n",
       "      <th>3003</th>\n",
       "      <td>d2671669-e407-43b7-a0b8-37edb3a291dc</td>\n",
       "      <td>Montenegro</td>\n",
       "      <td>friend</td>\n",
       "      <td>Import</td>\n",
       "      <td>8860</td>\n",
       "      <td>4364.64</td>\n",
       "      <td>06-11-2020</td>\n",
       "      <td>Machinery</td>\n",
       "      <td>East Cynthia</td>\n",
       "      <td>755286</td>\n",
       "      <td>519.34</td>\n",
       "      <td>Air</td>\n",
       "      <td>Roberts-Downs</td>\n",
       "      <td>Brian Murphy</td>\n",
       "      <td>20497506</td>\n",
       "      <td>Net 60</td>\n",
       "    </tr>\n",
       "    <tr>\n",
       "      <th>4416</th>\n",
       "      <td>f548d769-1c17-472e-ad13-929117a57420</td>\n",
       "      <td>Saint Pierre and Miquelon</td>\n",
       "      <td>report</td>\n",
       "      <td>Export</td>\n",
       "      <td>2845</td>\n",
       "      <td>7553.94</td>\n",
       "      <td>04-04-2021</td>\n",
       "      <td>Toys</td>\n",
       "      <td>Portermouth</td>\n",
       "      <td>205532</td>\n",
       "      <td>1290.80</td>\n",
       "      <td>Sea</td>\n",
       "      <td>Taylor, Burns and Davis</td>\n",
       "      <td>Zachary Huff</td>\n",
       "      <td>24596725</td>\n",
       "      <td>Cash on Delivery</td>\n",
       "    </tr>\n",
       "    <tr>\n",
       "      <th>9842</th>\n",
       "      <td>e516927d-39c1-4b66-9e3b-05e15f955a27</td>\n",
       "      <td>Hungary</td>\n",
       "      <td>serious</td>\n",
       "      <td>Export</td>\n",
       "      <td>6596</td>\n",
       "      <td>5776.13</td>\n",
       "      <td>08-09-2019</td>\n",
       "      <td>Toys</td>\n",
       "      <td>Port Michelechester</td>\n",
       "      <td>315065</td>\n",
       "      <td>1312.92</td>\n",
       "      <td>Land</td>\n",
       "      <td>Hopkins-Hurst</td>\n",
       "      <td>Donna Juarez</td>\n",
       "      <td>24492631</td>\n",
       "      <td>Cash on Delivery</td>\n",
       "    </tr>\n",
       "    <tr>\n",
       "      <th>14051</th>\n",
       "      <td>2e2c8c68-e237-4479-a461-feaf9e236ae2</td>\n",
       "      <td>France</td>\n",
       "      <td>such</td>\n",
       "      <td>Export</td>\n",
       "      <td>3853</td>\n",
       "      <td>8189.99</td>\n",
       "      <td>04-11-2020</td>\n",
       "      <td>Furniture</td>\n",
       "      <td>Welchmouth</td>\n",
       "      <td>262504</td>\n",
       "      <td>2953.48</td>\n",
       "      <td>Air</td>\n",
       "      <td>Robertson-Hogan</td>\n",
       "      <td>Bryan Skinner</td>\n",
       "      <td>52990385</td>\n",
       "      <td>Net 30</td>\n",
       "    </tr>\n",
       "    <tr>\n",
       "      <th>10751</th>\n",
       "      <td>5b739028-633c-4e6e-9aae-54775184ea2c</td>\n",
       "      <td>Reunion</td>\n",
       "      <td>eat</td>\n",
       "      <td>Export</td>\n",
       "      <td>3667</td>\n",
       "      <td>8113.23</td>\n",
       "      <td>04-06-2022</td>\n",
       "      <td>Machinery</td>\n",
       "      <td>Aguirreburgh</td>\n",
       "      <td>621270</td>\n",
       "      <td>63.58</td>\n",
       "      <td>Sea</td>\n",
       "      <td>Keith-Fields</td>\n",
       "      <td>Raymond Ross</td>\n",
       "      <td>4392486</td>\n",
       "      <td>Prepaid</td>\n",
       "    </tr>\n",
       "    <tr>\n",
       "      <th>...</th>\n",
       "      <td>...</td>\n",
       "      <td>...</td>\n",
       "      <td>...</td>\n",
       "      <td>...</td>\n",
       "      <td>...</td>\n",
       "      <td>...</td>\n",
       "      <td>...</td>\n",
       "      <td>...</td>\n",
       "      <td>...</td>\n",
       "      <td>...</td>\n",
       "      <td>...</td>\n",
       "      <td>...</td>\n",
       "      <td>...</td>\n",
       "      <td>...</td>\n",
       "      <td>...</td>\n",
       "      <td>...</td>\n",
       "    </tr>\n",
       "    <tr>\n",
       "      <th>14470</th>\n",
       "      <td>7e877cf3-257f-4404-b2df-df6d4a482025</td>\n",
       "      <td>Fiji</td>\n",
       "      <td>road</td>\n",
       "      <td>Export</td>\n",
       "      <td>6441</td>\n",
       "      <td>2277.72</td>\n",
       "      <td>26-09-2022</td>\n",
       "      <td>Machinery</td>\n",
       "      <td>North Aaronview</td>\n",
       "      <td>922135</td>\n",
       "      <td>360.87</td>\n",
       "      <td>Land</td>\n",
       "      <td>Mathews-Gallegos</td>\n",
       "      <td>Vanessa Lewis</td>\n",
       "      <td>85144816</td>\n",
       "      <td>Net 60</td>\n",
       "    </tr>\n",
       "    <tr>\n",
       "      <th>1587</th>\n",
       "      <td>9bb3aa4c-5147-43fa-ab7a-00d8dec0efbf</td>\n",
       "      <td>Reunion</td>\n",
       "      <td>ok</td>\n",
       "      <td>Import</td>\n",
       "      <td>1846</td>\n",
       "      <td>279.32</td>\n",
       "      <td>03-11-2022</td>\n",
       "      <td>Machinery</td>\n",
       "      <td>East Meganhaven</td>\n",
       "      <td>446315</td>\n",
       "      <td>1182.80</td>\n",
       "      <td>Air</td>\n",
       "      <td>Bradford-Jackson</td>\n",
       "      <td>Paige Hunter</td>\n",
       "      <td>21544966</td>\n",
       "      <td>Prepaid</td>\n",
       "    </tr>\n",
       "    <tr>\n",
       "      <th>2540</th>\n",
       "      <td>26a84f0f-7596-4632-98ed-b6eec235870a</td>\n",
       "      <td>Niger</td>\n",
       "      <td>policy</td>\n",
       "      <td>Import</td>\n",
       "      <td>5451</td>\n",
       "      <td>7656.92</td>\n",
       "      <td>16-06-2023</td>\n",
       "      <td>Machinery</td>\n",
       "      <td>Millerberg</td>\n",
       "      <td>361986</td>\n",
       "      <td>4081.73</td>\n",
       "      <td>Air</td>\n",
       "      <td>Mcdonald-Lewis</td>\n",
       "      <td>Gabrielle Webb</td>\n",
       "      <td>28239227</td>\n",
       "      <td>Net 30</td>\n",
       "    </tr>\n",
       "    <tr>\n",
       "      <th>7457</th>\n",
       "      <td>89f6116b-88a2-4644-92d8-80ac5c4c2d13</td>\n",
       "      <td>Saint Kitts and Nevis</td>\n",
       "      <td>step</td>\n",
       "      <td>Export</td>\n",
       "      <td>9540</td>\n",
       "      <td>531.58</td>\n",
       "      <td>19-09-2020</td>\n",
       "      <td>Clothing</td>\n",
       "      <td>West Michellestad</td>\n",
       "      <td>743189</td>\n",
       "      <td>471.68</td>\n",
       "      <td>Land</td>\n",
       "      <td>Turner LLC</td>\n",
       "      <td>Jeffrey Allen</td>\n",
       "      <td>55857093</td>\n",
       "      <td>Net 60</td>\n",
       "    </tr>\n",
       "    <tr>\n",
       "      <th>13772</th>\n",
       "      <td>602a2fa7-6336-4dd7-a167-db7a95b0506f</td>\n",
       "      <td>Vanuatu</td>\n",
       "      <td>week</td>\n",
       "      <td>Import</td>\n",
       "      <td>1943</td>\n",
       "      <td>9641.06</td>\n",
       "      <td>12-08-2021</td>\n",
       "      <td>Furniture</td>\n",
       "      <td>Rebeccaberg</td>\n",
       "      <td>163887</td>\n",
       "      <td>2653.62</td>\n",
       "      <td>Air</td>\n",
       "      <td>Dawson, Davis and Johnson</td>\n",
       "      <td>Wesley Arias</td>\n",
       "      <td>36209779</td>\n",
       "      <td>Net 30</td>\n",
       "    </tr>\n",
       "  </tbody>\n",
       "</table>\n",
       "<p>3001 rows × 16 columns</p>\n",
       "</div>"
      ],
      "text/plain": [
       "                             Transaction_ID                    Country  \\\n",
       "3003   d2671669-e407-43b7-a0b8-37edb3a291dc                 Montenegro   \n",
       "4416   f548d769-1c17-472e-ad13-929117a57420  Saint Pierre and Miquelon   \n",
       "9842   e516927d-39c1-4b66-9e3b-05e15f955a27                    Hungary   \n",
       "14051  2e2c8c68-e237-4479-a461-feaf9e236ae2                     France   \n",
       "10751  5b739028-633c-4e6e-9aae-54775184ea2c                    Reunion   \n",
       "...                                     ...                        ...   \n",
       "14470  7e877cf3-257f-4404-b2df-df6d4a482025                       Fiji   \n",
       "1587   9bb3aa4c-5147-43fa-ab7a-00d8dec0efbf                    Reunion   \n",
       "2540   26a84f0f-7596-4632-98ed-b6eec235870a                      Niger   \n",
       "7457   89f6116b-88a2-4644-92d8-80ac5c4c2d13      Saint Kitts and Nevis   \n",
       "13772  602a2fa7-6336-4dd7-a167-db7a95b0506f                    Vanuatu   \n",
       "\n",
       "       Product Import_Export  Quantity    Value        Date   Category  \\\n",
       "3003    friend        Import      8860  4364.64  06-11-2020  Machinery   \n",
       "4416    report        Export      2845  7553.94  04-04-2021       Toys   \n",
       "9842   serious        Export      6596  5776.13  08-09-2019       Toys   \n",
       "14051     such        Export      3853  8189.99  04-11-2020  Furniture   \n",
       "10751      eat        Export      3667  8113.23  04-06-2022  Machinery   \n",
       "...        ...           ...       ...      ...         ...        ...   \n",
       "14470     road        Export      6441  2277.72  26-09-2022  Machinery   \n",
       "1587        ok        Import      1846   279.32  03-11-2022  Machinery   \n",
       "2540    policy        Import      5451  7656.92  16-06-2023  Machinery   \n",
       "7457      step        Export      9540   531.58  19-09-2020   Clothing   \n",
       "13772     week        Import      1943  9641.06  12-08-2021  Furniture   \n",
       "\n",
       "                      Port  Customs_Code   Weight Shipping_Method  \\\n",
       "3003          East Cynthia        755286   519.34             Air   \n",
       "4416           Portermouth        205532  1290.80             Sea   \n",
       "9842   Port Michelechester        315065  1312.92            Land   \n",
       "14051           Welchmouth        262504  2953.48             Air   \n",
       "10751         Aguirreburgh        621270    63.58             Sea   \n",
       "...                    ...           ...      ...             ...   \n",
       "14470      North Aaronview        922135   360.87            Land   \n",
       "1587       East Meganhaven        446315  1182.80             Air   \n",
       "2540            Millerberg        361986  4081.73             Air   \n",
       "7457     West Michellestad        743189   471.68            Land   \n",
       "13772          Rebeccaberg        163887  2653.62             Air   \n",
       "\n",
       "                        Supplier        Customer  Invoice_Number  \\\n",
       "3003               Roberts-Downs    Brian Murphy        20497506   \n",
       "4416     Taylor, Burns and Davis    Zachary Huff        24596725   \n",
       "9842               Hopkins-Hurst    Donna Juarez        24492631   \n",
       "14051            Robertson-Hogan   Bryan Skinner        52990385   \n",
       "10751               Keith-Fields    Raymond Ross         4392486   \n",
       "...                          ...             ...             ...   \n",
       "14470           Mathews-Gallegos   Vanessa Lewis        85144816   \n",
       "1587            Bradford-Jackson    Paige Hunter        21544966   \n",
       "2540              Mcdonald-Lewis  Gabrielle Webb        28239227   \n",
       "7457                  Turner LLC   Jeffrey Allen        55857093   \n",
       "13772  Dawson, Davis and Johnson    Wesley Arias        36209779   \n",
       "\n",
       "          Payment_Terms  \n",
       "3003             Net 60  \n",
       "4416   Cash on Delivery  \n",
       "9842   Cash on Delivery  \n",
       "14051            Net 30  \n",
       "10751           Prepaid  \n",
       "...                 ...  \n",
       "14470            Net 60  \n",
       "1587            Prepaid  \n",
       "2540             Net 30  \n",
       "7457             Net 60  \n",
       "13772            Net 30  \n",
       "\n",
       "[3001 rows x 16 columns]"
      ]
     },
     "execution_count": 9,
     "metadata": {},
     "output_type": "execute_result"
    }
   ],
   "source": [
    "#Creating and displaying an Unique Sample of 2001 Records using Student Roll Number as Random State.\n",
    "my_sample=df.sample(n=3001, random_state=55017)\n",
    "my_sample"
   ]
  },
  {
   "cell_type": "code",
   "execution_count": 11,
   "id": "a0371d17-039e-4ea7-8c35-6d6c3137250f",
   "metadata": {},
   "outputs": [
    {
     "data": {
      "text/plain": [
       "(3001, 16)"
      ]
     },
     "execution_count": 11,
     "metadata": {},
     "output_type": "execute_result"
    }
   ],
   "source": [
    "#Displaying the Dimensions of Sample Data.\n",
    "my_sample.shape"
   ]
  },
  {
   "cell_type": "code",
   "execution_count": 13,
   "id": "6d5a8111-1f0a-43d5-a91b-e4deda148a29",
   "metadata": {},
   "outputs": [
    {
     "name": "stdout",
     "output_type": "stream",
     "text": [
      "<class 'pandas.core.frame.DataFrame'>\n",
      "Index: 3001 entries, 3003 to 13772\n",
      "Data columns (total 16 columns):\n",
      " #   Column           Non-Null Count  Dtype  \n",
      "---  ------           --------------  -----  \n",
      " 0   Transaction_ID   3001 non-null   object \n",
      " 1   Country          3001 non-null   object \n",
      " 2   Product          3001 non-null   object \n",
      " 3   Import_Export    3001 non-null   object \n",
      " 4   Quantity         3001 non-null   int64  \n",
      " 5   Value            3001 non-null   float64\n",
      " 6   Date             3001 non-null   object \n",
      " 7   Category         3001 non-null   object \n",
      " 8   Port             3001 non-null   object \n",
      " 9   Customs_Code     3001 non-null   int64  \n",
      " 10  Weight           3001 non-null   float64\n",
      " 11  Shipping_Method  3001 non-null   object \n",
      " 12  Supplier         3001 non-null   object \n",
      " 13  Customer         3001 non-null   object \n",
      " 14  Invoice_Number   3001 non-null   int64  \n",
      " 15  Payment_Terms    3001 non-null   object \n",
      "dtypes: float64(2), int64(3), object(11)\n",
      "memory usage: 398.6+ KB\n"
     ]
    }
   ],
   "source": [
    "#Displaying Sample Data Information.\n",
    "my_sample.info()"
   ]
  },
  {
   "cell_type": "code",
   "execution_count": 15,
   "id": "a28db7a2-5d93-4ada-87bb-192310dac7f4",
   "metadata": {},
   "outputs": [
    {
     "data": {
      "text/html": [
       "<div>\n",
       "<style scoped>\n",
       "    .dataframe tbody tr th:only-of-type {\n",
       "        vertical-align: middle;\n",
       "    }\n",
       "\n",
       "    .dataframe tbody tr th {\n",
       "        vertical-align: top;\n",
       "    }\n",
       "\n",
       "    .dataframe thead th {\n",
       "        text-align: right;\n",
       "    }\n",
       "</style>\n",
       "<table border=\"1\" class=\"dataframe\">\n",
       "  <thead>\n",
       "    <tr style=\"text-align: right;\">\n",
       "      <th></th>\n",
       "      <th>Transaction_ID</th>\n",
       "      <th>Country</th>\n",
       "      <th>Product</th>\n",
       "      <th>Import_Export</th>\n",
       "      <th>Quantity</th>\n",
       "      <th>Value</th>\n",
       "      <th>Date</th>\n",
       "      <th>Category</th>\n",
       "      <th>Port</th>\n",
       "      <th>Customs_Code</th>\n",
       "      <th>Weight</th>\n",
       "      <th>Shipping_Method</th>\n",
       "      <th>Supplier</th>\n",
       "      <th>Customer</th>\n",
       "      <th>Invoice_Number</th>\n",
       "      <th>Payment_Terms</th>\n",
       "    </tr>\n",
       "  </thead>\n",
       "  <tbody>\n",
       "    <tr>\n",
       "      <th>3003</th>\n",
       "      <td>d2671669-e407-43b7-a0b8-37edb3a291dc</td>\n",
       "      <td>Montenegro</td>\n",
       "      <td>friend</td>\n",
       "      <td>Import</td>\n",
       "      <td>8860</td>\n",
       "      <td>4364.64</td>\n",
       "      <td>06-11-2020</td>\n",
       "      <td>Machinery</td>\n",
       "      <td>East Cynthia</td>\n",
       "      <td>755286</td>\n",
       "      <td>519.34</td>\n",
       "      <td>Air</td>\n",
       "      <td>Roberts-Downs</td>\n",
       "      <td>Brian Murphy</td>\n",
       "      <td>20497506</td>\n",
       "      <td>Net 60</td>\n",
       "    </tr>\n",
       "    <tr>\n",
       "      <th>4416</th>\n",
       "      <td>f548d769-1c17-472e-ad13-929117a57420</td>\n",
       "      <td>Saint Pierre and Miquelon</td>\n",
       "      <td>report</td>\n",
       "      <td>Export</td>\n",
       "      <td>2845</td>\n",
       "      <td>7553.94</td>\n",
       "      <td>04-04-2021</td>\n",
       "      <td>Toys</td>\n",
       "      <td>Portermouth</td>\n",
       "      <td>205532</td>\n",
       "      <td>1290.80</td>\n",
       "      <td>Sea</td>\n",
       "      <td>Taylor, Burns and Davis</td>\n",
       "      <td>Zachary Huff</td>\n",
       "      <td>24596725</td>\n",
       "      <td>Cash on Delivery</td>\n",
       "    </tr>\n",
       "    <tr>\n",
       "      <th>9842</th>\n",
       "      <td>e516927d-39c1-4b66-9e3b-05e15f955a27</td>\n",
       "      <td>Hungary</td>\n",
       "      <td>serious</td>\n",
       "      <td>Export</td>\n",
       "      <td>6596</td>\n",
       "      <td>5776.13</td>\n",
       "      <td>08-09-2019</td>\n",
       "      <td>Toys</td>\n",
       "      <td>Port Michelechester</td>\n",
       "      <td>315065</td>\n",
       "      <td>1312.92</td>\n",
       "      <td>Land</td>\n",
       "      <td>Hopkins-Hurst</td>\n",
       "      <td>Donna Juarez</td>\n",
       "      <td>24492631</td>\n",
       "      <td>Cash on Delivery</td>\n",
       "    </tr>\n",
       "  </tbody>\n",
       "</table>\n",
       "</div>"
      ],
      "text/plain": [
       "                            Transaction_ID                    Country  \\\n",
       "3003  d2671669-e407-43b7-a0b8-37edb3a291dc                 Montenegro   \n",
       "4416  f548d769-1c17-472e-ad13-929117a57420  Saint Pierre and Miquelon   \n",
       "9842  e516927d-39c1-4b66-9e3b-05e15f955a27                    Hungary   \n",
       "\n",
       "      Product Import_Export  Quantity    Value        Date   Category  \\\n",
       "3003   friend        Import      8860  4364.64  06-11-2020  Machinery   \n",
       "4416   report        Export      2845  7553.94  04-04-2021       Toys   \n",
       "9842  serious        Export      6596  5776.13  08-09-2019       Toys   \n",
       "\n",
       "                     Port  Customs_Code   Weight Shipping_Method  \\\n",
       "3003         East Cynthia        755286   519.34             Air   \n",
       "4416          Portermouth        205532  1290.80             Sea   \n",
       "9842  Port Michelechester        315065  1312.92            Land   \n",
       "\n",
       "                     Supplier      Customer  Invoice_Number     Payment_Terms  \n",
       "3003            Roberts-Downs  Brian Murphy        20497506            Net 60  \n",
       "4416  Taylor, Burns and Davis  Zachary Huff        24596725  Cash on Delivery  \n",
       "9842            Hopkins-Hurst  Donna Juarez        24492631  Cash on Delivery  "
      ]
     },
     "execution_count": 15,
     "metadata": {},
     "output_type": "execute_result"
    }
   ],
   "source": [
    "#Displaying the First 03 Records of the Sample Data.\n",
    "my_sample.head(3)"
   ]
  },
  {
   "cell_type": "code",
   "execution_count": 17,
   "id": "306a6c84-eb9e-4760-82fd-8569a4a030a6",
   "metadata": {},
   "outputs": [
    {
     "data": {
      "text/plain": [
       "Index(['Transaction_ID', 'Country', 'Product', 'Import_Export', 'Quantity',\n",
       "       'Value', 'Date', 'Category', 'Port', 'Customs_Code', 'Weight',\n",
       "       'Shipping_Method', 'Supplier', 'Customer', 'Invoice_Number',\n",
       "       'Payment_Terms'],\n",
       "      dtype='object')"
      ]
     },
     "execution_count": 17,
     "metadata": {},
     "output_type": "execute_result"
    }
   ],
   "source": [
    "#Displaying the List of Names of the Variables.\n",
    "my_sample.columns"
   ]
  },
  {
   "cell_type": "code",
   "execution_count": 19,
   "id": "9a152058-652c-4b15-8de9-e9c66ad88718",
   "metadata": {},
   "outputs": [],
   "source": [
    "#Identifying & Displaying the List of following Variables:\n",
    "# 1. Index Variables[Transaction_Id]\n",
    "# 2. Categorical Variables - Nominal Type [Country,Product,Import_Export,Category,Port,Shipping_Method,Supplier,Customer,Payment_Terms]\n",
    "# 3. Categorical Variables - Ordinal Type.\n",
    "# 4. Non-Categorical Variables [Quantity,Value,Date,Customs_Code,Weight,Invoice_Number]"
   ]
  },
  {
   "cell_type": "code",
   "execution_count": 21,
   "id": "f683282b-0da7-4cd9-8909-d085b6231ae8",
   "metadata": {},
   "outputs": [
    {
     "data": {
      "text/html": [
       "<div>\n",
       "<style scoped>\n",
       "    .dataframe tbody tr th:only-of-type {\n",
       "        vertical-align: middle;\n",
       "    }\n",
       "\n",
       "    .dataframe tbody tr th {\n",
       "        vertical-align: top;\n",
       "    }\n",
       "\n",
       "    .dataframe thead th {\n",
       "        text-align: right;\n",
       "    }\n",
       "</style>\n",
       "<table border=\"1\" class=\"dataframe\">\n",
       "  <thead>\n",
       "    <tr style=\"text-align: right;\">\n",
       "      <th></th>\n",
       "      <th>Quantity</th>\n",
       "      <th>Value</th>\n",
       "      <th>Date</th>\n",
       "      <th>Customs_Code</th>\n",
       "      <th>Weight</th>\n",
       "      <th>Invoice_Number</th>\n",
       "    </tr>\n",
       "  </thead>\n",
       "  <tbody>\n",
       "    <tr>\n",
       "      <th>3003</th>\n",
       "      <td>8860</td>\n",
       "      <td>4364.64</td>\n",
       "      <td>06-11-2020</td>\n",
       "      <td>755286</td>\n",
       "      <td>519.34</td>\n",
       "      <td>20497506</td>\n",
       "    </tr>\n",
       "    <tr>\n",
       "      <th>4416</th>\n",
       "      <td>2845</td>\n",
       "      <td>7553.94</td>\n",
       "      <td>04-04-2021</td>\n",
       "      <td>205532</td>\n",
       "      <td>1290.80</td>\n",
       "      <td>24596725</td>\n",
       "    </tr>\n",
       "    <tr>\n",
       "      <th>9842</th>\n",
       "      <td>6596</td>\n",
       "      <td>5776.13</td>\n",
       "      <td>08-09-2019</td>\n",
       "      <td>315065</td>\n",
       "      <td>1312.92</td>\n",
       "      <td>24492631</td>\n",
       "    </tr>\n",
       "    <tr>\n",
       "      <th>14051</th>\n",
       "      <td>3853</td>\n",
       "      <td>8189.99</td>\n",
       "      <td>04-11-2020</td>\n",
       "      <td>262504</td>\n",
       "      <td>2953.48</td>\n",
       "      <td>52990385</td>\n",
       "    </tr>\n",
       "    <tr>\n",
       "      <th>10751</th>\n",
       "      <td>3667</td>\n",
       "      <td>8113.23</td>\n",
       "      <td>04-06-2022</td>\n",
       "      <td>621270</td>\n",
       "      <td>63.58</td>\n",
       "      <td>4392486</td>\n",
       "    </tr>\n",
       "    <tr>\n",
       "      <th>...</th>\n",
       "      <td>...</td>\n",
       "      <td>...</td>\n",
       "      <td>...</td>\n",
       "      <td>...</td>\n",
       "      <td>...</td>\n",
       "      <td>...</td>\n",
       "    </tr>\n",
       "    <tr>\n",
       "      <th>14470</th>\n",
       "      <td>6441</td>\n",
       "      <td>2277.72</td>\n",
       "      <td>26-09-2022</td>\n",
       "      <td>922135</td>\n",
       "      <td>360.87</td>\n",
       "      <td>85144816</td>\n",
       "    </tr>\n",
       "    <tr>\n",
       "      <th>1587</th>\n",
       "      <td>1846</td>\n",
       "      <td>279.32</td>\n",
       "      <td>03-11-2022</td>\n",
       "      <td>446315</td>\n",
       "      <td>1182.80</td>\n",
       "      <td>21544966</td>\n",
       "    </tr>\n",
       "    <tr>\n",
       "      <th>2540</th>\n",
       "      <td>5451</td>\n",
       "      <td>7656.92</td>\n",
       "      <td>16-06-2023</td>\n",
       "      <td>361986</td>\n",
       "      <td>4081.73</td>\n",
       "      <td>28239227</td>\n",
       "    </tr>\n",
       "    <tr>\n",
       "      <th>7457</th>\n",
       "      <td>9540</td>\n",
       "      <td>531.58</td>\n",
       "      <td>19-09-2020</td>\n",
       "      <td>743189</td>\n",
       "      <td>471.68</td>\n",
       "      <td>55857093</td>\n",
       "    </tr>\n",
       "    <tr>\n",
       "      <th>13772</th>\n",
       "      <td>1943</td>\n",
       "      <td>9641.06</td>\n",
       "      <td>12-08-2021</td>\n",
       "      <td>163887</td>\n",
       "      <td>2653.62</td>\n",
       "      <td>36209779</td>\n",
       "    </tr>\n",
       "  </tbody>\n",
       "</table>\n",
       "<p>3001 rows × 6 columns</p>\n",
       "</div>"
      ],
      "text/plain": [
       "       Quantity    Value        Date  Customs_Code   Weight  Invoice_Number\n",
       "3003       8860  4364.64  06-11-2020        755286   519.34        20497506\n",
       "4416       2845  7553.94  04-04-2021        205532  1290.80        24596725\n",
       "9842       6596  5776.13  08-09-2019        315065  1312.92        24492631\n",
       "14051      3853  8189.99  04-11-2020        262504  2953.48        52990385\n",
       "10751      3667  8113.23  04-06-2022        621270    63.58         4392486\n",
       "...         ...      ...         ...           ...      ...             ...\n",
       "14470      6441  2277.72  26-09-2022        922135   360.87        85144816\n",
       "1587       1846   279.32  03-11-2022        446315  1182.80        21544966\n",
       "2540       5451  7656.92  16-06-2023        361986  4081.73        28239227\n",
       "7457       9540   531.58  19-09-2020        743189   471.68        55857093\n",
       "13772      1943  9641.06  12-08-2021        163887  2653.62        36209779\n",
       "\n",
       "[3001 rows x 6 columns]"
      ]
     },
     "execution_count": 21,
     "metadata": {},
     "output_type": "execute_result"
    }
   ],
   "source": [
    "#Subset and Display the Non-Categorical Variables.\n",
    "non_cat=my_sample[['Quantity', 'Value', 'Date', 'Customs_Code', 'Weight','Invoice_Number']]\n",
    "non_cat"
   ]
  },
  {
   "cell_type": "code",
   "execution_count": 25,
   "id": "26086b56-4444-4834-9c1e-b25edd319827",
   "metadata": {},
   "outputs": [
    {
     "data": {
      "text/html": [
       "<div>\n",
       "<style scoped>\n",
       "    .dataframe tbody tr th:only-of-type {\n",
       "        vertical-align: middle;\n",
       "    }\n",
       "\n",
       "    .dataframe tbody tr th {\n",
       "        vertical-align: top;\n",
       "    }\n",
       "\n",
       "    .dataframe thead th {\n",
       "        text-align: right;\n",
       "    }\n",
       "</style>\n",
       "<table border=\"1\" class=\"dataframe\">\n",
       "  <thead>\n",
       "    <tr style=\"text-align: right;\">\n",
       "      <th></th>\n",
       "      <th>Quantity</th>\n",
       "      <th>Value</th>\n",
       "      <th>Customs_Code</th>\n",
       "      <th>Weight</th>\n",
       "      <th>Invoice_Number</th>\n",
       "    </tr>\n",
       "  </thead>\n",
       "  <tbody>\n",
       "    <tr>\n",
       "      <th>count</th>\n",
       "      <td>3001.000000</td>\n",
       "      <td>3001.000000</td>\n",
       "      <td>3001.000000</td>\n",
       "      <td>3001.000000</td>\n",
       "      <td>3.001000e+03</td>\n",
       "    </tr>\n",
       "    <tr>\n",
       "      <th>mean</th>\n",
       "      <td>4962.490170</td>\n",
       "      <td>5024.565765</td>\n",
       "      <td>543920.620793</td>\n",
       "      <td>2514.487907</td>\n",
       "      <td>5.009049e+07</td>\n",
       "    </tr>\n",
       "    <tr>\n",
       "      <th>std</th>\n",
       "      <td>2883.486344</td>\n",
       "      <td>2855.561840</td>\n",
       "      <td>262622.441827</td>\n",
       "      <td>1442.711941</td>\n",
       "      <td>2.905312e+07</td>\n",
       "    </tr>\n",
       "    <tr>\n",
       "      <th>min</th>\n",
       "      <td>6.000000</td>\n",
       "      <td>109.900000</td>\n",
       "      <td>100147.000000</td>\n",
       "      <td>1.980000</td>\n",
       "      <td>7.877000e+04</td>\n",
       "    </tr>\n",
       "    <tr>\n",
       "      <th>25%</th>\n",
       "      <td>2438.000000</td>\n",
       "      <td>2602.540000</td>\n",
       "      <td>321899.000000</td>\n",
       "      <td>1274.600000</td>\n",
       "      <td>2.531569e+07</td>\n",
       "    </tr>\n",
       "    <tr>\n",
       "      <th>50%</th>\n",
       "      <td>4903.000000</td>\n",
       "      <td>5062.130000</td>\n",
       "      <td>536066.000000</td>\n",
       "      <td>2521.370000</td>\n",
       "      <td>4.953186e+07</td>\n",
       "    </tr>\n",
       "    <tr>\n",
       "      <th>75%</th>\n",
       "      <td>7445.000000</td>\n",
       "      <td>7464.650000</td>\n",
       "      <td>775990.000000</td>\n",
       "      <td>3738.940000</td>\n",
       "      <td>7.583276e+07</td>\n",
       "    </tr>\n",
       "    <tr>\n",
       "      <th>max</th>\n",
       "      <td>10000.000000</td>\n",
       "      <td>9999.130000</td>\n",
       "      <td>999783.000000</td>\n",
       "      <td>4999.520000</td>\n",
       "      <td>9.999723e+07</td>\n",
       "    </tr>\n",
       "  </tbody>\n",
       "</table>\n",
       "</div>"
      ],
      "text/plain": [
       "           Quantity        Value   Customs_Code       Weight  Invoice_Number\n",
       "count   3001.000000  3001.000000    3001.000000  3001.000000    3.001000e+03\n",
       "mean    4962.490170  5024.565765  543920.620793  2514.487907    5.009049e+07\n",
       "std     2883.486344  2855.561840  262622.441827  1442.711941    2.905312e+07\n",
       "min        6.000000   109.900000  100147.000000     1.980000    7.877000e+04\n",
       "25%     2438.000000  2602.540000  321899.000000  1274.600000    2.531569e+07\n",
       "50%     4903.000000  5062.130000  536066.000000  2521.370000    4.953186e+07\n",
       "75%     7445.000000  7464.650000  775990.000000  3738.940000    7.583276e+07\n",
       "max    10000.000000  9999.130000  999783.000000  4999.520000    9.999723e+07"
      ]
     },
     "execution_count": 25,
     "metadata": {},
     "output_type": "execute_result"
    }
   ],
   "source": [
    "#Displaying the Descriptive Statistics of the Non-Categorical Subset.\n",
    "non_cat.describe()"
   ]
  },
  {
   "cell_type": "code",
   "execution_count": 27,
   "id": "c9f729a5-859d-4e14-a045-7d13a7b0c4da",
   "metadata": {},
   "outputs": [
    {
     "data": {
      "text/html": [
       "<div>\n",
       "<style scoped>\n",
       "    .dataframe tbody tr th:only-of-type {\n",
       "        vertical-align: middle;\n",
       "    }\n",
       "\n",
       "    .dataframe tbody tr th {\n",
       "        vertical-align: top;\n",
       "    }\n",
       "\n",
       "    .dataframe thead th {\n",
       "        text-align: right;\n",
       "    }\n",
       "</style>\n",
       "<table border=\"1\" class=\"dataframe\">\n",
       "  <thead>\n",
       "    <tr style=\"text-align: right;\">\n",
       "      <th></th>\n",
       "      <th>Country</th>\n",
       "      <th>Product</th>\n",
       "      <th>Import_Export</th>\n",
       "      <th>Category</th>\n",
       "      <th>Port</th>\n",
       "      <th>Shipping_Method</th>\n",
       "      <th>Supplier</th>\n",
       "      <th>Customer</th>\n",
       "      <th>Payment_Terms</th>\n",
       "    </tr>\n",
       "  </thead>\n",
       "  <tbody>\n",
       "    <tr>\n",
       "      <th>3003</th>\n",
       "      <td>Montenegro</td>\n",
       "      <td>friend</td>\n",
       "      <td>Import</td>\n",
       "      <td>Machinery</td>\n",
       "      <td>East Cynthia</td>\n",
       "      <td>Air</td>\n",
       "      <td>Roberts-Downs</td>\n",
       "      <td>Brian Murphy</td>\n",
       "      <td>Net 60</td>\n",
       "    </tr>\n",
       "    <tr>\n",
       "      <th>4416</th>\n",
       "      <td>Saint Pierre and Miquelon</td>\n",
       "      <td>report</td>\n",
       "      <td>Export</td>\n",
       "      <td>Toys</td>\n",
       "      <td>Portermouth</td>\n",
       "      <td>Sea</td>\n",
       "      <td>Taylor, Burns and Davis</td>\n",
       "      <td>Zachary Huff</td>\n",
       "      <td>Cash on Delivery</td>\n",
       "    </tr>\n",
       "    <tr>\n",
       "      <th>9842</th>\n",
       "      <td>Hungary</td>\n",
       "      <td>serious</td>\n",
       "      <td>Export</td>\n",
       "      <td>Toys</td>\n",
       "      <td>Port Michelechester</td>\n",
       "      <td>Land</td>\n",
       "      <td>Hopkins-Hurst</td>\n",
       "      <td>Donna Juarez</td>\n",
       "      <td>Cash on Delivery</td>\n",
       "    </tr>\n",
       "    <tr>\n",
       "      <th>14051</th>\n",
       "      <td>France</td>\n",
       "      <td>such</td>\n",
       "      <td>Export</td>\n",
       "      <td>Furniture</td>\n",
       "      <td>Welchmouth</td>\n",
       "      <td>Air</td>\n",
       "      <td>Robertson-Hogan</td>\n",
       "      <td>Bryan Skinner</td>\n",
       "      <td>Net 30</td>\n",
       "    </tr>\n",
       "    <tr>\n",
       "      <th>10751</th>\n",
       "      <td>Reunion</td>\n",
       "      <td>eat</td>\n",
       "      <td>Export</td>\n",
       "      <td>Machinery</td>\n",
       "      <td>Aguirreburgh</td>\n",
       "      <td>Sea</td>\n",
       "      <td>Keith-Fields</td>\n",
       "      <td>Raymond Ross</td>\n",
       "      <td>Prepaid</td>\n",
       "    </tr>\n",
       "    <tr>\n",
       "      <th>...</th>\n",
       "      <td>...</td>\n",
       "      <td>...</td>\n",
       "      <td>...</td>\n",
       "      <td>...</td>\n",
       "      <td>...</td>\n",
       "      <td>...</td>\n",
       "      <td>...</td>\n",
       "      <td>...</td>\n",
       "      <td>...</td>\n",
       "    </tr>\n",
       "    <tr>\n",
       "      <th>14470</th>\n",
       "      <td>Fiji</td>\n",
       "      <td>road</td>\n",
       "      <td>Export</td>\n",
       "      <td>Machinery</td>\n",
       "      <td>North Aaronview</td>\n",
       "      <td>Land</td>\n",
       "      <td>Mathews-Gallegos</td>\n",
       "      <td>Vanessa Lewis</td>\n",
       "      <td>Net 60</td>\n",
       "    </tr>\n",
       "    <tr>\n",
       "      <th>1587</th>\n",
       "      <td>Reunion</td>\n",
       "      <td>ok</td>\n",
       "      <td>Import</td>\n",
       "      <td>Machinery</td>\n",
       "      <td>East Meganhaven</td>\n",
       "      <td>Air</td>\n",
       "      <td>Bradford-Jackson</td>\n",
       "      <td>Paige Hunter</td>\n",
       "      <td>Prepaid</td>\n",
       "    </tr>\n",
       "    <tr>\n",
       "      <th>2540</th>\n",
       "      <td>Niger</td>\n",
       "      <td>policy</td>\n",
       "      <td>Import</td>\n",
       "      <td>Machinery</td>\n",
       "      <td>Millerberg</td>\n",
       "      <td>Air</td>\n",
       "      <td>Mcdonald-Lewis</td>\n",
       "      <td>Gabrielle Webb</td>\n",
       "      <td>Net 30</td>\n",
       "    </tr>\n",
       "    <tr>\n",
       "      <th>7457</th>\n",
       "      <td>Saint Kitts and Nevis</td>\n",
       "      <td>step</td>\n",
       "      <td>Export</td>\n",
       "      <td>Clothing</td>\n",
       "      <td>West Michellestad</td>\n",
       "      <td>Land</td>\n",
       "      <td>Turner LLC</td>\n",
       "      <td>Jeffrey Allen</td>\n",
       "      <td>Net 60</td>\n",
       "    </tr>\n",
       "    <tr>\n",
       "      <th>13772</th>\n",
       "      <td>Vanuatu</td>\n",
       "      <td>week</td>\n",
       "      <td>Import</td>\n",
       "      <td>Furniture</td>\n",
       "      <td>Rebeccaberg</td>\n",
       "      <td>Air</td>\n",
       "      <td>Dawson, Davis and Johnson</td>\n",
       "      <td>Wesley Arias</td>\n",
       "      <td>Net 30</td>\n",
       "    </tr>\n",
       "  </tbody>\n",
       "</table>\n",
       "<p>3001 rows × 9 columns</p>\n",
       "</div>"
      ],
      "text/plain": [
       "                         Country  Product Import_Export   Category  \\\n",
       "3003                  Montenegro   friend        Import  Machinery   \n",
       "4416   Saint Pierre and Miquelon   report        Export       Toys   \n",
       "9842                     Hungary  serious        Export       Toys   \n",
       "14051                     France     such        Export  Furniture   \n",
       "10751                    Reunion      eat        Export  Machinery   \n",
       "...                          ...      ...           ...        ...   \n",
       "14470                       Fiji     road        Export  Machinery   \n",
       "1587                     Reunion       ok        Import  Machinery   \n",
       "2540                       Niger   policy        Import  Machinery   \n",
       "7457       Saint Kitts and Nevis     step        Export   Clothing   \n",
       "13772                    Vanuatu     week        Import  Furniture   \n",
       "\n",
       "                      Port Shipping_Method                   Supplier  \\\n",
       "3003          East Cynthia             Air              Roberts-Downs   \n",
       "4416           Portermouth             Sea    Taylor, Burns and Davis   \n",
       "9842   Port Michelechester            Land              Hopkins-Hurst   \n",
       "14051           Welchmouth             Air            Robertson-Hogan   \n",
       "10751         Aguirreburgh             Sea               Keith-Fields   \n",
       "...                    ...             ...                        ...   \n",
       "14470      North Aaronview            Land           Mathews-Gallegos   \n",
       "1587       East Meganhaven             Air           Bradford-Jackson   \n",
       "2540            Millerberg             Air             Mcdonald-Lewis   \n",
       "7457     West Michellestad            Land                 Turner LLC   \n",
       "13772          Rebeccaberg             Air  Dawson, Davis and Johnson   \n",
       "\n",
       "             Customer     Payment_Terms  \n",
       "3003     Brian Murphy            Net 60  \n",
       "4416     Zachary Huff  Cash on Delivery  \n",
       "9842     Donna Juarez  Cash on Delivery  \n",
       "14051   Bryan Skinner            Net 30  \n",
       "10751    Raymond Ross           Prepaid  \n",
       "...               ...               ...  \n",
       "14470   Vanessa Lewis            Net 60  \n",
       "1587     Paige Hunter           Prepaid  \n",
       "2540   Gabrielle Webb            Net 30  \n",
       "7457    Jeffrey Allen            Net 60  \n",
       "13772    Wesley Arias            Net 30  \n",
       "\n",
       "[3001 rows x 9 columns]"
      ]
     },
     "execution_count": 27,
     "metadata": {},
     "output_type": "execute_result"
    }
   ],
   "source": [
    "#Subset and Display the Categorical Variables.\n",
    "cat_df=my_sample[['Country', 'Product', 'Import_Export', 'Category', 'Port', 'Shipping_Method', 'Supplier','Customer','Payment_Terms']]\n",
    "cat_df"
   ]
  },
  {
   "cell_type": "code",
   "execution_count": 29,
   "id": "62dcb9cc-c95b-4303-9f22-b6baf85d5ace",
   "metadata": {},
   "outputs": [
    {
     "data": {
      "text/plain": [
       "(                   Transaction_ID  Product  Import_Export  Quantity  Value  \\\n",
       " Country                                                                      \n",
       " Afghanistan                    13       13             13        13     13   \n",
       " Albania                        12       12             12        12     12   \n",
       " Algeria                        14       14             14        14     14   \n",
       " American Samoa                 16       16             16        16     16   \n",
       " Andorra                        14       14             14        14     14   \n",
       " ...                           ...      ...            ...       ...    ...   \n",
       " Wallis and Futuna              12       12             12        12     12   \n",
       " Western Sahara                 15       15             15        15     15   \n",
       " Yemen                          13       13             13        13     13   \n",
       " Zambia                         14       14             14        14     14   \n",
       " Zimbabwe                        8        8              8         8      8   \n",
       " \n",
       "                    Date  Category  Port  Customs_Code  Weight  \\\n",
       " Country                                                         \n",
       " Afghanistan          13        13    13            13      13   \n",
       " Albania              12        12    12            12      12   \n",
       " Algeria              14        14    14            14      14   \n",
       " American Samoa       16        16    16            16      16   \n",
       " Andorra              14        14    14            14      14   \n",
       " ...                 ...       ...   ...           ...     ...   \n",
       " Wallis and Futuna    12        12    12            12      12   \n",
       " Western Sahara       15        15    15            15      15   \n",
       " Yemen                13        13    13            13      13   \n",
       " Zambia               14        14    14            14      14   \n",
       " Zimbabwe              8         8     8             8       8   \n",
       " \n",
       "                    Shipping_Method  Supplier  Customer  Invoice_Number  \\\n",
       " Country                                                                  \n",
       " Afghanistan                     13        13        13              13   \n",
       " Albania                         12        12        12              12   \n",
       " Algeria                         14        14        14              14   \n",
       " American Samoa                  16        16        16              16   \n",
       " Andorra                         14        14        14              14   \n",
       " ...                            ...       ...       ...             ...   \n",
       " Wallis and Futuna               12        12        12              12   \n",
       " Western Sahara                  15        15        15              15   \n",
       " Yemen                           13        13        13              13   \n",
       " Zambia                          14        14        14              14   \n",
       " Zimbabwe                         8         8         8               8   \n",
       " \n",
       "                    Payment_Terms  \n",
       " Country                           \n",
       " Afghanistan                   13  \n",
       " Albania                       12  \n",
       " Algeria                       14  \n",
       " American Samoa                16  \n",
       " Andorra                       14  \n",
       " ...                          ...  \n",
       " Wallis and Futuna             12  \n",
       " Western Sahara                15  \n",
       " Yemen                         13  \n",
       " Zambia                        14  \n",
       " Zimbabwe                       8  \n",
       " \n",
       " [243 rows x 15 columns],\n",
       "                Transaction_ID  Country  Product  Quantity  Value  Date  \\\n",
       " Import_Export                                                            \n",
       " Export                   1510     1510     1510      1510   1510  1510   \n",
       " Import                   1491     1491     1491      1491   1491  1491   \n",
       " \n",
       "                Category  Port  Customs_Code  Weight  Shipping_Method  \\\n",
       " Import_Export                                                          \n",
       " Export             1510  1510          1510    1510             1510   \n",
       " Import             1491  1491          1491    1491             1491   \n",
       " \n",
       "                Supplier  Customer  Invoice_Number  Payment_Terms  \n",
       " Import_Export                                                     \n",
       " Export             1510      1510            1510           1510  \n",
       " Import             1491      1491            1491           1491  )"
      ]
     },
     "execution_count": 29,
     "metadata": {},
     "output_type": "execute_result"
    }
   ],
   "source": [
    "#Display the Descriptive Statistics of any 02 Categorical Variables.\n",
    "country_des_stats = my_sample.groupby('Country').count()\n",
    "import_export_des_stats = my_sample.groupby('Import_Export').count()\n",
    "country_des_stats , import_export_des_stats"
   ]
  },
  {
   "cell_type": "code",
   "execution_count": 31,
   "id": "61657f26-c41b-44a8-a243-815465ec70a3",
   "metadata": {},
   "outputs": [
    {
     "name": "stdout",
     "output_type": "stream",
     "text": [
      "Most Preferred Shipping Method: Sea with 1057 orders.\n",
      "Least Preferred Shipping Method: Land with 950 orders.\n"
     ]
    }
   ],
   "source": [
    "#Display the Most and Least Preferred Shipping Method.\n",
    "shipping_method_counts = my_sample['Shipping_Method'].value_counts()\n",
    "\n",
    "# Most preferred ship mode\n",
    "most_preferred = shipping_method_counts.idxmax()\n",
    "most_preferred_count = shipping_method_counts.max()\n",
    "\n",
    "# Least preferred ship mode\n",
    "least_preferred = shipping_method_counts.idxmin()\n",
    "least_preferred_count = shipping_method_counts.min()\n",
    "\n",
    "# Display the results\n",
    "print(f\"Most Preferred Shipping Method: {most_preferred} with {most_preferred_count} orders.\")\n",
    "print(f\"Least Preferred Shipping Method: {least_preferred} with {least_preferred_count} orders.\")"
   ]
  },
  {
   "cell_type": "raw",
   "id": "0080cb94-add9-4b48-84b0-e7b1591526e5",
   "metadata": {},
   "source": [
    "Observation : We can see that \"Sea\" is the most preferred shipping method with 1057 orders, while \"Land\" is the least preferred with 950 orders. The counts are very close, indicating that there is nearly equal demand for both shipping methods in the dataset.\n",
    "\n",
    "Managerial Insight :\n",
    "\n",
    "The near-equal preference for \"Sea\" and \"Land\" shipping suggests that customers have varied needs regarding delivery speed and cost.\n",
    "\"Sea\" shipping might be more cost-effective for bulkier items or short distances, whereas \"Land\" shipping is likely used for time-sensitive or international deliveries.\n",
    "To optimize logistics, management could explore offering more targeted incentives (e.g., discounts on less frequently used methods during low-demand periods) to balance the load between these shipping methods and ensure smoother operations during peak times."
   ]
  },
  {
   "cell_type": "code",
   "execution_count": 33,
   "id": "37735352-88d6-450c-8355-7a8a86861bf1",
   "metadata": {},
   "outputs": [
    {
     "data": {
      "text/html": [
       "<div>\n",
       "<style scoped>\n",
       "    .dataframe tbody tr th:only-of-type {\n",
       "        vertical-align: middle;\n",
       "    }\n",
       "\n",
       "    .dataframe tbody tr th {\n",
       "        vertical-align: top;\n",
       "    }\n",
       "\n",
       "    .dataframe thead th {\n",
       "        text-align: right;\n",
       "    }\n",
       "</style>\n",
       "<table border=\"1\" class=\"dataframe\">\n",
       "  <thead>\n",
       "    <tr style=\"text-align: right;\">\n",
       "      <th></th>\n",
       "      <th>Transaction_ID</th>\n",
       "    </tr>\n",
       "    <tr>\n",
       "      <th>Country</th>\n",
       "      <th></th>\n",
       "    </tr>\n",
       "  </thead>\n",
       "  <tbody>\n",
       "    <tr>\n",
       "      <th>Congo</th>\n",
       "      <td>28</td>\n",
       "    </tr>\n",
       "  </tbody>\n",
       "</table>\n",
       "</div>"
      ],
      "text/plain": [
       "         Transaction_ID\n",
       "Country                \n",
       "Congo                28"
      ]
     },
     "execution_count": 33,
     "metadata": {},
     "output_type": "execute_result"
    }
   ],
   "source": [
    "#Country with highest number of transactions \n",
    "transactions_bycountry = my_sample.groupby('Country')[['Transaction_ID']].count()\n",
    "max_transactions = transactions_bycountry.sort_values('Transaction_ID',ascending=False)\n",
    "max_transactions.head(1)"
   ]
  },
  {
   "cell_type": "raw",
   "id": "f474ccdf-74ee-4790-96b0-b85099bf7dae",
   "metadata": {},
   "source": [
    "Observation : Congo has the highest number of transactions, with 28 recorded.\n",
    "\n",
    "Managerial Insight : Focusing on Congo for future business strategies may yield higher returns, as it represents a significant portion of the company's transaction volume. Strengthening relationships and exploring additional opportunities in this market could enhance profitability."
   ]
  },
  {
   "cell_type": "code",
   "execution_count": 35,
   "id": "4b4eef92-b02d-411f-8230-b0fa666fded6",
   "metadata": {},
   "outputs": [
    {
     "data": {
      "text/html": [
       "<div>\n",
       "<style scoped>\n",
       "    .dataframe tbody tr th:only-of-type {\n",
       "        vertical-align: middle;\n",
       "    }\n",
       "\n",
       "    .dataframe tbody tr th {\n",
       "        vertical-align: top;\n",
       "    }\n",
       "\n",
       "    .dataframe thead th {\n",
       "        text-align: right;\n",
       "    }\n",
       "</style>\n",
       "<table border=\"1\" class=\"dataframe\">\n",
       "  <thead>\n",
       "    <tr style=\"text-align: right;\">\n",
       "      <th></th>\n",
       "      <th>Transaction_ID</th>\n",
       "    </tr>\n",
       "    <tr>\n",
       "      <th>Country</th>\n",
       "      <th></th>\n",
       "    </tr>\n",
       "  </thead>\n",
       "  <tbody>\n",
       "    <tr>\n",
       "      <th>Ireland</th>\n",
       "      <td>5</td>\n",
       "    </tr>\n",
       "  </tbody>\n",
       "</table>\n",
       "</div>"
      ],
      "text/plain": [
       "         Transaction_ID\n",
       "Country                \n",
       "Ireland               5"
      ]
     },
     "execution_count": 35,
     "metadata": {},
     "output_type": "execute_result"
    }
   ],
   "source": [
    "#Country with least number of transactions \n",
    "transactions_bycountry = my_sample.groupby('Country')[['Transaction_ID']].count()\n",
    "least_transactions = transactions_bycountry.sort_values('Transaction_ID',ascending=True)\n",
    "least_transactions.head(1)"
   ]
  },
  {
   "cell_type": "raw",
   "id": "5c6d9cc7-8e27-449c-b981-93352593c606",
   "metadata": {},
   "source": [
    "Observation : Ireland has the lower number of transactions, with only 5 recorded suggesting that enhancement solutions are required in this market area.\n",
    "\n",
    "Managerial Insight : Ireland, with only 5 transactions, represents an underperforming market compared to other countries. Management should evaluate whether this low activity is due to market potential, lack of resources, or ineffective strategies and decide if targeted marketing or operational adjustments are needed to improve transaction volume in this region."
   ]
  },
  {
   "cell_type": "code",
   "execution_count": 37,
   "id": "faa7e1f7-471c-477e-95a2-41ed4e30ed34",
   "metadata": {},
   "outputs": [
    {
     "name": "stdout",
     "output_type": "stream",
     "text": [
      "The average value of imports is 5006.34\n",
      "The average value of exports is 5042.56\n"
     ]
    }
   ],
   "source": [
    "#Average value of imports vs. exports\n",
    "imports = my_sample[my_sample['Import_Export'] == 'Import']\n",
    "exports = my_sample[my_sample['Import_Export'] == 'Export']\n",
    "\n",
    "average_import_value = imports['Value'].mean()\n",
    "average_export_value = exports['Value'].mean()\n",
    "\n",
    "print(f\"The average value of imports is {average_import_value:.2f}\")\n",
    "print(f\"The average value of exports is {average_export_value:.2f}\")"
   ]
  },
  {
   "cell_type": "raw",
   "id": "67153982-275a-44e8-8298-37d8cd66af47",
   "metadata": {},
   "source": [
    "Observation: \n",
    "The average value of imports ($5006.34) is slightly lower than the average value of exports ($5042.56), indicating a marginal difference between the two trade flows.\n",
    "\n",
    "Managerial Insight: \n",
    "Given the higher average export value, management might focus on optimizing supply chain costs for exports to enhance profitability. Simultaneously, exploring opportunities to boost the average value of impots could enhance overall revenue, balancing the trade dynamics."
   ]
  },
  {
   "cell_type": "code",
   "execution_count": 39,
   "id": "f4d9cbbf-4d55-4d8c-910a-80c3b3a170cc",
   "metadata": {},
   "outputs": [
    {
     "name": "stdout",
     "output_type": "stream",
     "text": [
      "The total value of exports from the top 3 exporting countries is 235656.53\n",
      "\n",
      "Top 3 Exporting Countries:\n",
      " Country\n",
      "Congo      84682.56\n",
      "Hungary    83004.17\n",
      "Israel     67969.80\n",
      "Name: Value, dtype: float64\n"
     ]
    }
   ],
   "source": [
    "#Total value of exports from the top 3 exporting countries and also display the top 3 countries\n",
    "exports = my_sample[my_sample['Import_Export'] == 'Export']\n",
    "\n",
    "total_export_values = exports.groupby('Country')['Value'].sum()\n",
    "top_3_exporting_values = total_export_values.sort_values(ascending=False).head(3)\n",
    "total_value_top3 = top_3_exporting_values.sum()\n",
    "print(f\"The total value of exports from the top 3 exporting countries is {total_value_top3:.2f}\")\n",
    "print(\"\\nTop 3 Exporting Countries:\\n\", top_3_exporting_values)"
   ]
  },
  {
   "cell_type": "raw",
   "id": "95eb5490-f988-4282-b10f-cdca8f950202",
   "metadata": {},
   "source": [
    "Observation: \n",
    "The top 3 exporting countries—Congo, Hungary and Israel account for a significant total export value of 84682.56,83004.17,67969.80 with Congo leading the group at 84682.56.\n",
    "\n",
    "Managerial Insight: \n",
    "Given that a large portion of export value is concentrated in these three countries, management should focus on strengthening trade relationships and logistical efficiencies with Congo, Hungary and Israel to maximize export growth and streamline operations in these high-performing regions."
   ]
  },
  {
   "cell_type": "code",
   "execution_count": 41,
   "id": "eaeafc4b-580b-4946-bbbf-f358c06e797e",
   "metadata": {},
   "outputs": [
    {
     "name": "stdout",
     "output_type": "stream",
     "text": [
      "The product with the highest transaction value is 'data' with a value of 58723.20.\n"
     ]
    }
   ],
   "source": [
    "#Product having the highest transaction value across all countries\n",
    "total_value_by_product =my_sample.groupby('Product')['Value'].sum()\n",
    "\n",
    "product_with_max_value = total_value_by_product.idxmax()\n",
    "max_value = total_value_by_product.max()\n",
    "\n",
    "print(f\"The product with the highest transaction value is '{product_with_max_value}' with a value of {max_value:.2f}.\")\n"
   ]
  },
  {
   "cell_type": "raw",
   "id": "1159f2cd-56f4-44f3-befc-f8c1a9cf4b72",
   "metadata": {},
   "source": [
    "Observation: The product 'data' has the highest transaction value across all countries, totaling $58723.20 indicating strong demand or market preference.\n",
    "\n",
    "Managerial Insight: Management should leverage this insight by prioritizing marketing and supply chain efforts around the 'data' product. Focusing on enhancing availability, optimizing pricing strategies, and exploring potential partnerships could significantly boost sales and strengthen market positioning.\n",
    "\n"
   ]
  },
  {
   "cell_type": "code",
   "execution_count": 43,
   "id": "a09e8803-a804-4dd9-a6de-2136d1079e2a",
   "metadata": {},
   "outputs": [
    {
     "name": "stdout",
     "output_type": "stream",
     "text": [
      "The product category with the most transactions is 'Clothing' with 625 transactions.\n"
     ]
    }
   ],
   "source": [
    "#Product category with the most number of transactions \n",
    "\n",
    "total_value_by_category = my_sample.groupby('Category')['Transaction_ID'].count()\n",
    "category_with_most_transactions = total_value_by_category.idxmax()\n",
    "most_transactions = total_value_by_category.max()\n",
    "\n",
    "print(f\"The product category with the most transactions is '{category_with_most_transactions}' with {most_transactions} transactions.\")"
   ]
  },
  {
   "cell_type": "raw",
   "id": "ed3498b1-a816-443e-be10-73db37765348",
   "metadata": {},
   "source": [
    "\n",
    "Observation: The 'Clothing' category leads with the highest number of transactions at 625, indicating a robust market activity and demand for machinery products.\n",
    "\n",
    "Managerial Insight: Given the high transaction volume in the clothing category, management should consider enhancing inventory management and supply chain efficiencies for these products. Additionally, investing in targeted marketing campaigns and exploring partnerships with key players in this sector could further capitalize on this demand and drive revenue growth."
   ]
  },
  {
   "cell_type": "code",
   "execution_count": 45,
   "id": "2c3c5c15-ec92-4e11-b230-bc976411cb40",
   "metadata": {},
   "outputs": [
    {
     "name": "stdout",
     "output_type": "stream",
     "text": [
      "          Country Year_Month  Transaction_ID\n",
      "0     Afghanistan    2020-01               1\n",
      "1     Afghanistan    2020-05               1\n",
      "2     Afghanistan    2020-08               1\n",
      "3     Afghanistan    2020-11               1\n",
      "4     Afghanistan    2020-12               1\n",
      "...           ...        ...             ...\n",
      "2701     Zimbabwe    2021-03               1\n",
      "2702     Zimbabwe    2022-01               1\n",
      "2703     Zimbabwe    2023-08               1\n",
      "2704     Zimbabwe    2024-07               1\n",
      "2705     Zimbabwe    2024-08               1\n",
      "\n",
      "[2706 rows x 3 columns]\n"
     ]
    }
   ],
   "source": [
    "#Total number of transactions in each country by month\n",
    "\n",
    "my_sample['Date'] = pd.to_datetime(my_sample['Date'], format='%d-%m-%Y')\n",
    "my_sample['Year_Month'] = my_sample['Date'].dt.to_period('M')\n",
    "transactions_by_country_month = my_sample.groupby(['Country', 'Year_Month'])['Transaction_ID'].count()\n",
    "transactions_by_country_month = transactions_by_country_month.reset_index()\n",
    "print(transactions_by_country_month)"
   ]
  },
  {
   "cell_type": "raw",
   "id": "c3f367f0-cedd-4b33-b445-735f3c9f332d",
   "metadata": {},
   "source": [
    "Observation: The sample dataset reveals a total of 2706 transactions categorized by country and month, indicating diverse trading activity across multiple countries over several months.\n",
    "\n",
    "Managerial Insight: Management should analyze transaction trends over time to identify peak trading months and regional patterns. This information can inform inventory planning, resource allocation, and targeted marketing strategies, allowing the company to optimize operations and enhance customer satisfaction during high-demand periods."
   ]
  },
  {
   "cell_type": "code",
   "execution_count": 47,
   "id": "99e86714-4eb5-4b5f-b5f1-0ac38b5b3cce",
   "metadata": {},
   "outputs": [
    {
     "name": "stdout",
     "output_type": "stream",
     "text": [
      "Country with the highest average value per transaction:\n",
      "\n",
      "Country\n",
      "Lebanon    6994.91\n",
      "Name: Value, dtype: float64\n"
     ]
    }
   ],
   "source": [
    "#Display the country having the highest average value per transaction\n",
    "average_value_per_transaction = my_sample.groupby('Country')['Value'].mean()\n",
    "\n",
    "sorted_average_value = average_value_per_transaction.sort_values(ascending=False).head(1)\n",
    "\n",
    "print(\"Country with the highest average value per transaction:\\n\")\n",
    "print(sorted_average_value)"
   ]
  },
  {
   "cell_type": "raw",
   "id": "1a2b6ab3-2bb0-4544-9577-ca209fd8a426",
   "metadata": {},
   "source": [
    "Observation: Lebanon has the highest average value per transaction at $6994.91, indicating that transactions from this country tend to involve higher-value goods or services.\n",
    "\n",
    "Managerial Insight: Management should consider focusing on Lebanon as a key market for high-value offerings. Strengthening relationships with local partners and tailoring marketing strategies to emphasize premium products could enhance sales and profitability in this lucrative market segment"
   ]
  },
  {
   "cell_type": "code",
   "execution_count": 49,
   "id": "f7a76907-c80e-45e4-880a-df5cb6e3a51b",
   "metadata": {},
   "outputs": [
    {
     "name": "stdout",
     "output_type": "stream",
     "text": [
      "The product category with the most transactions is 'Toys' with 569 transactions.\n"
     ]
    }
   ],
   "source": [
    "#Product category with the least number of transactions \n",
    "\n",
    "total_value_by_category = my_sample.groupby('Category')['Transaction_ID'].count()\n",
    "category_with_least_transactions = total_value_by_category.idxmin()\n",
    "least_transactions = total_value_by_category.min()\n",
    "\n",
    "print(f\"The product category with the most transactions is '{category_with_least_transactions}' with {least_transactions} transactions.\")"
   ]
  },
  {
   "cell_type": "raw",
   "id": "28bc0c1c-ab17-43ce-b3e3-fac341149b5b",
   "metadata": {},
   "source": [
    "Observation: The 'toys' category has the least number of transactions, totaling 569, suggesting lower market activity or demand compared to other categories.\n",
    "\n",
    "Managerial Insight: Management should investigate the reasons behind the low transaction volume in the toys category. This may involve conducting market research to identify potential barriers to sales, enhancing product offerings, or refining marketing strategies to stimulate demand and improve transaction levels in this segment.\n",
    "\n"
   ]
  },
  {
   "cell_type": "code",
   "execution_count": 51,
   "id": "ee3a0853-6c0f-4f6f-8ecf-d38254994e79",
   "metadata": {},
   "outputs": [
    {
     "name": "stdout",
     "output_type": "stream",
     "text": [
      "Most preferred payment terms method: Net 30 with 761 orders.\n"
     ]
    }
   ],
   "source": [
    "#Display the Most preferred payment term method\n",
    "\n",
    "payment_term_counts = my_sample['Payment_Terms'].value_counts()\n",
    "\n",
    "most_preferred_payment_term = payment_term_counts.idxmax()\n",
    "most_preferred_payment_term_count = payment_term_counts.max()\n",
    "\n",
    "\n",
    "print(f\"Most preferred payment terms method: {most_preferred_payment_term} with {most_preferred_payment_term_count} orders.\")"
   ]
  },
  {
   "cell_type": "raw",
   "id": "38bf5e23-f860-45f3-8f17-b1e7b58fb938",
   "metadata": {},
   "source": [
    "Observation: The most preferred payment term method is \"Net 30,\" with a total of 761 orders, indicating a strong preference among clients for this extended payment option.\n",
    "\n",
    "Managerial Insight: Management should consider standardizing \"Net 30\" as the default payment term to enhance customer satisfaction and potentially increase sales. Additionally, understanding the reasons behind this preference can help tailor financial offerings and improve client relationships, further optimizing cash flow management."
   ]
  },
  {
   "cell_type": "code",
   "execution_count": 53,
   "id": "2fc1b010-4117-490b-bf5d-d0558f060fa6",
   "metadata": {},
   "outputs": [
    {
     "name": "stdout",
     "output_type": "stream",
     "text": [
      "Least preferred payment terms method: Net 60 with 731 orders.\n"
     ]
    }
   ],
   "source": [
    "#Display the least preferred payment term method\n",
    "\n",
    "payment_term_counts = my_sample['Payment_Terms'].value_counts()\n",
    "\n",
    "least_preferred_payment_term = payment_term_counts.idxmin()\n",
    "least_preferred_payment_term_count = payment_term_counts.min()\n",
    "\n",
    "\n",
    "print(f\"Least preferred payment terms method: {least_preferred_payment_term} with {least_preferred_payment_term_count} orders.\")"
   ]
  },
  {
   "cell_type": "raw",
   "id": "3b0e088b-9eb9-4ae1-b615-69e0cc0eba3b",
   "metadata": {},
   "source": [
    "Observation: The least preferred payment term method is \"Net 60,\" with only 731 orders, indicating a lack of confidence or convenience among customers for this payment option.\n",
    "\n",
    "Managerial Insight: Management should analyze the factors contributing to the low popularity of \"Net 60\" and consider providing additional payment options or incentives to encourage its use. Improving the perception of security and reliability for this payment method could help increase its adoption and enhance customer satisfaction.\n",
    "\n"
   ]
  },
  {
   "cell_type": "code",
   "execution_count": 55,
   "id": "d6543fc8-58e6-48b0-9fc6-0721d21fdc58",
   "metadata": {},
   "outputs": [
    {
     "name": "stdout",
     "output_type": "stream",
     "text": [
      "The product category with the highest total weight being shipped is 'Clothing' with a total weight of 1576153.1 units.\n"
     ]
    }
   ],
   "source": [
    "#Display the product category with the highest total weight being shipped \n",
    "\n",
    "total_value_by_category = my_sample.groupby('Category')['Weight'].sum()\n",
    "category_with_max_weight = total_value_by_category.idxmax()\n",
    "max_weight = round(total_value_by_category.max(),2)\n",
    "\n",
    "print(f\"The product category with the highest total weight being shipped is '{category_with_max_weight}' with a total weight of {max_weight} units.\")"
   ]
  },
  {
   "cell_type": "raw",
   "id": "795829d4-125c-4d82-a417-da699fd5d536",
   "metadata": {},
   "source": [
    "Observation: The 'Clothing' category has the highest total weight being shipped, totaling 1576153.1 units, indicating significant volume in this product line.\n",
    "\n",
    "Managerial Insight: Management should optimize logistics and supply chain management specifically for the clothing category to ensure efficient handling and transportation of these heavy products. Additionally, focusing on inventory management and potentially exploring bulk shipping options could reduce costs and enhance service delivery for this high-volume category."
   ]
  },
  {
   "cell_type": "code",
   "execution_count": 57,
   "id": "687f2908-32bd-493e-b896-b6cb4acc2063",
   "metadata": {},
   "outputs": [
    {
     "name": "stdout",
     "output_type": "stream",
     "text": [
      "The product category with the least total weight being shipped is 'Toys' with a total weight of 1430300.83 units.\n"
     ]
    }
   ],
   "source": [
    "#Display the product category with the least total weight being shipped \n",
    "\n",
    "total_value_by_category = my_sample.groupby('Category')['Weight'].sum()\n",
    "category_with_least_weight = total_value_by_category.idxmin()\n",
    "least_weight = round(total_value_by_category.min(),2)\n",
    "\n",
    "print(f\"The product category with the least total weight being shipped is '{category_with_least_weight}' with a total weight of {least_weight} units.\")"
   ]
  },
  {
   "cell_type": "raw",
   "id": "d0f53c65-9920-4937-96e2-a7ece9588eb6",
   "metadata": {},
   "source": [
    "Observation: The 'Toys' category has the least total weight being shipped, amounting to 1430300.83 units, indicating a relatively lighter product profile compared to other categories.\n",
    "\n",
    "Managerial Insight: Management should evaluate the reasons behind the low shipping weight in the Toys category, which may include product design or market preferences. Focusing on optimizing packaging and shipping processes for lighter items could reduce shipping costs and enhance competitiveness in pricing, potentially increasing sales in this category."
   ]
  },
  {
   "cell_type": "code",
   "execution_count": 59,
   "id": "9f2d420b-28d6-449b-8391-341122b2c302",
   "metadata": {},
   "outputs": [
    {
     "name": "stdout",
     "output_type": "stream",
     "text": [
      "Country with the least average value per transaction:\n",
      "\n",
      "Country\n",
      "Ireland    1327.188\n",
      "Name: Value, dtype: float64\n"
     ]
    }
   ],
   "source": [
    "#Display the country having the least average value per transaction\n",
    "\n",
    "average_value_per_transaction = my_sample.groupby('Country')['Value'].mean()\n",
    "\n",
    "least_average_value = average_value_per_transaction.sort_values(ascending=True).head(1)\n",
    "\n",
    "print(\"Country with the least average value per transaction:\\n\")\n",
    "print(least_average_value)"
   ]
  },
  {
   "cell_type": "raw",
   "id": "df9f04f8-6d01-4357-869e-c7022e7c30ad",
   "metadata": {},
   "source": [
    "Observation: Ireland has the least average value per transaction at $1327.188 indicating that the transactions from this country involve relatively low-value goods or services.\n",
    "\n",
    "Managerial Insight: Management should investigate the factors contributing to the low average transaction value in Ireland. By understanding market dynamics and customer preferences, the company can explore opportunities to introduce higher-value products or services, thereby enhancing revenue and improving the overall transaction value in this market."
   ]
  },
  {
   "cell_type": "code",
   "execution_count": 61,
   "id": "0cc80c06-b4ed-430e-b67b-6456554d6938",
   "metadata": {},
   "outputs": [
    {
     "name": "stdout",
     "output_type": "stream",
     "text": [
      "The total value of imports from the top 3 importing countries is 188823.28\n",
      "\n",
      "Top 3 Importing Countries:\n",
      " Country\n",
      "Bermuda        64429.95\n",
      "Switzerland    62843.36\n",
      "Egypt          61549.97\n",
      "Name: Value, dtype: float64\n"
     ]
    }
   ],
   "source": [
    "#Total value of imports from the top 3 importing countries and displaying the top 3 countries\n",
    "imports = my_sample[my_sample['Import_Export'] == 'Import']\n",
    "\n",
    "total_import_values = imports.groupby('Country')['Value'].sum()\n",
    "top_3_importing_values = total_import_values.sort_values(ascending=False).head(3)\n",
    "total_value_top3 = top_3_importing_values.sum()\n",
    "print(f\"The total value of imports from the top 3 importing countries is {total_value_top3:.2f}\")\n",
    "print(\"\\nTop 3 Importing Countries:\\n\", top_3_importing_values)"
   ]
  },
  {
   "cell_type": "raw",
   "id": "af619b32-e66b-4e87-9fae-3446ab764ae7",
   "metadata": {},
   "source": [
    "Observation: \n",
    "The total value of imports from the top three importing countries—Bermuda, Switzerland and Egypt—amounts to $188823.28 with Bermuda being the largest contributor at $64429.95.\n",
    "\n",
    "Managerial Insight: \n",
    "Management should focus on strengthening relationships and logistics with these key importing countries, particularly Bermuda, to ensure a steady supply chain. By optimizing import strategies and potentially negotiating better terms, the company can enhance its operational efficiency and capitalize on the significant import value from these regions."
   ]
  },
  {
   "cell_type": "code",
   "execution_count": 63,
   "id": "cc861eb5-9095-4f74-b940-196acd7b680b",
   "metadata": {},
   "outputs": [
    {
     "name": "stdout",
     "output_type": "stream",
     "text": [
      "The product with the least transaction value is 'teacher' with a value of 132.20.\n"
     ]
    }
   ],
   "source": [
    "#Product having the least transaction value across all countries\n",
    "total_value_by_product = my_sample.groupby('Product')['Value'].sum()\n",
    "\n",
    "product_with_least_value = total_value_by_product.idxmin()\n",
    "least_value = total_value_by_product.min()\n",
    "\n",
    "print(f\"The product with the least transaction value is '{product_with_least_value}' with a value of {least_value:.2f}.\")"
   ]
  },
  {
   "cell_type": "raw",
   "id": "4fe086f1-bc4d-4f42-bdf0-996b9702d092",
   "metadata": {},
   "source": [
    "Observation: The product with the least transaction value is 'teacher', totaling only $132.20, indicating it is likely underperforming in the market.\n",
    "\n",
    "Managerial Insight: Management should assess the reasons behind the low transaction value of 'teacher.' This may involve evaluating market demand, pricing strategies, or marketing efforts. By identifying and addressing the factors contributing to its poor performance, the company could enhance its sales strategy, potentially leading to improved revenue from this product category."
   ]
  },
  {
   "cell_type": "code",
   "execution_count": 65,
   "id": "899dbcdf-c566-4d00-8d2f-f165796f3a2b",
   "metadata": {},
   "outputs": [
    {
     "name": "stdout",
     "output_type": "stream",
     "text": [
      "The supplier with the highest number of transactions is 'Johnson PLC' with 7 transactions.\n"
     ]
    }
   ],
   "source": [
    "#Supplier who has conducted the highest number of transactions\n",
    "\n",
    "transaction_count_by_supplier = my_sample.groupby('Supplier')['Transaction_ID'].count()\n",
    "\n",
    "top_supplier = transaction_count_by_supplier.idxmax()\n",
    "max_transactions = transaction_count_by_supplier.max()\n",
    "\n",
    "print(f\"The supplier with the highest number of transactions is '{top_supplier}' with {max_transactions} transactions.\")"
   ]
  },
  {
   "cell_type": "raw",
   "id": "85c22cb1-67cc-4672-bfcc-74f5b6f772d1",
   "metadata": {},
   "source": [
    "Observation: The supplier with the highest number of transactions is 'Johnson PLC,' which has conducted 7 transactions, indicating a potential strong partnership or reliance on this supplier for operations.\n",
    "\n",
    "Managerial Insight: Management should consider evaluating the terms and efficiency of its relationship with Johnson PLC. Given their significant involvement, optimizing this partnership could enhance supply chain efficiency, improve pricing, and potentially lead to better product offerings, thereby strengthening overall business performance."
   ]
  },
  {
   "cell_type": "code",
   "execution_count": 67,
   "id": "d22f100d-7190-4030-9e40-352eb38d1a8b",
   "metadata": {},
   "outputs": [
    {
     "data": {
      "text/plain": [
       "Port\n",
       "New Michael        5\n",
       "Johnsonshire       5\n",
       "Port David         5\n",
       "South Stephanie    4\n",
       "New John           4\n",
       "                  ..\n",
       "Maloneburgh        1\n",
       "Angelicastad       1\n",
       "Sherrystad         1\n",
       "Stevenville        1\n",
       "Rebeccaberg        1\n",
       "Name: count, Length: 2725, dtype: int64"
      ]
     },
     "execution_count": 67,
     "metadata": {},
     "output_type": "execute_result"
    }
   ],
   "source": [
    "#Transactions made in each port\n",
    "transactions_per_port = my_sample['Port'].`value_counts()\n",
    "transactions_per_port"
   ]
  },
  {
   "cell_type": "raw",
   "id": "63f4425c-7aa8-4a3a-ab0e-3fb3f8a187b3",
   "metadata": {},
   "source": [
    "Observation: The dataset reveals that Port New MIchael, Johnsonshire, Port David each account for the highest number of transactions (5 each), while many ports, including Maloneburgh,Angelicastad,Sherrystad,Stevenville, Rebeccaberg have only a single transaction, indicating uneven transaction distribution across ports.\n",
    "\n",
    "Managerial Insight: Management should analyze the efficiency and throughput of the most frequently used ports, like Port New MIchael, Johnsonshire, Port David , to optimize logistics and shipping processes. Additionally, assessing the underutilized ports could unveil opportunities for diversification in shipping routes, potentially reducing congestion and improving overall operational resilience."
   ]
  },
  {
   "cell_type": "code",
   "execution_count": 69,
   "id": "4d44f182-3b9e-4515-8224-1810914b50e6",
   "metadata": {},
   "outputs": [
    {
     "name": "stdout",
     "output_type": "stream",
     "text": [
      "The total weight of exported products is 3784479.65 and total weight of imported products is 3761498.56.\n"
     ]
    }
   ],
   "source": [
    "#The total weight of exported products versus imported products\n",
    "\n",
    "imports = my_sample[my_sample['Import_Export'] == 'Import']\n",
    "exports = my_sample[my_sample['Import_Export'] == 'Export']\n",
    "\n",
    "total_imported_weight = imports['Weight'].sum()\n",
    "total_exported_weight = exports['Weight'].sum()\n",
    "\n",
    "print(f\"The total weight of exported products is {total_exported_weight:.2f} and total weight of imported products is {total_imported_weight:.2f}.\")"
   ]
  },
  {
   "cell_type": "raw",
   "id": "ff18b700-1c93-4e57-93e5-a9955be2453e",
   "metadata": {},
   "source": [
    "Observation: The total weight of exported products (3761498.56 units) exceeds that of imported products (3784479.65 units), indicating a higher reliance on exports compared to imports.\n",
    "\n",
    "Managerial Insight: This imbalance suggests a need for management to evaluate its supply chain strategy, focusing on enhancing local production capabilities or diversifying import markets. By reducing dependency on exports, the company could improve profitability and strengthen its market position against potential supply chain disruptions."
   ]
  },
  {
   "cell_type": "code",
   "execution_count": 71,
   "id": "82a62fd0-6d55-461d-a330-eb9cba4e7cac",
   "metadata": {},
   "outputs": [
    {
     "name": "stdout",
     "output_type": "stream",
     "text": [
      "Average Export Quantity per Country:\n",
      "                Country     Quantity\n",
      "0          Afghanistan  5575.600000\n",
      "1              Albania  6449.857143\n",
      "2              Algeria  4851.285714\n",
      "3       American Samoa  5095.142857\n",
      "4              Andorra  7126.428571\n",
      "..                 ...          ...\n",
      "238  Wallis and Futuna  6584.166667\n",
      "239     Western Sahara  5732.000000\n",
      "240              Yemen  4977.500000\n",
      "241             Zambia  2765.125000\n",
      "242           Zimbabwe  4729.000000\n",
      "\n",
      "[243 rows x 2 columns]\n",
      "\n",
      "Average Import Quantity per Country:\n",
      "                Country     Quantity\n",
      "0          Afghanistan  4576.750000\n",
      "1              Albania  4280.600000\n",
      "2              Algeria  4192.285714\n",
      "3       American Samoa  4369.888889\n",
      "4              Andorra  6495.857143\n",
      "..                 ...          ...\n",
      "238  Wallis and Futuna  3362.666667\n",
      "239     Western Sahara  5529.090909\n",
      "240              Yemen  5673.200000\n",
      "241             Zambia  3390.833333\n",
      "242           Zimbabwe  6319.500000\n",
      "\n",
      "[243 rows x 2 columns]\n"
     ]
    }
   ],
   "source": [
    "#The average quantity of imports and exports per country\n",
    "\n",
    "exports = my_sample[my_sample['Import_Export'] == 'Export']\n",
    "imports = my_sample[my_sample['Import_Export'] == 'Import']\n",
    "\n",
    "average_export_quantity_by_country = exports.groupby('Country')['Quantity'].mean()\n",
    "\n",
    "average_import_quantity_by_country = imports.groupby('Country')['Quantity'].mean()\n",
    "\n",
    "average_export_quantity_by_country = average_export_quantity_by_country.reset_index()\n",
    "average_import_quantity_by_country = average_import_quantity_by_country.reset_index()\n",
    "\n",
    "print(\"Average Export Quantity per Country:\\n\", average_export_quantity_by_country)\n",
    "print(\"\\nAverage Import Quantity per Country:\\n\", average_import_quantity_by_country)"
   ]
  },
  {
   "cell_type": "raw",
   "id": "35f1d551-7e1f-4171-8c97-37965d5b07bb",
   "metadata": {},
   "source": [
    "Observation: The average export quantity per country varies significantly, with countries like Afghanistan averaging 5575.6 units exported, while others, such as American Samoa, export an average of only 5095.142857 units. In contrast, the average import quantity also shows variability, with Afghanistan averaging 4576.75 units imported.\n",
    "\n",
    "Managerial Insight: This data highlights the need for targeted market strategies. Countries with higher export averages could be potential growth markets , while those with lower import averages may require a deeper understanding of local demand dynamics. Adjusting inventory and supply chain strategies to align with these insights could enhance operational efficiency and improve market penetration."
   ]
  },
  {
   "cell_type": "code",
   "execution_count": 73,
   "id": "53f6dcb7-1491-4b13-8185-f66910d896af",
   "metadata": {},
   "outputs": [
    {
     "name": "stdout",
     "output_type": "stream",
     "text": [
      "The customer with the highest transaction value is 'Sarah Nguyen' with a total transaction value of 21569.0 units.\n"
     ]
    }
   ],
   "source": [
    "#Customer having the highest transaction value \n",
    "\n",
    "total_transaction_value_by_customer = my_sample.groupby('Customer')['Value'].sum()\n",
    "\n",
    "top_customer = total_transaction_value_by_customer.idxmax()\n",
    "highest_transaction_value = total_transaction_value_by_customer.max()\n",
    "\n",
    "\n",
    "print(f\"The customer with the highest transaction value is '{top_customer}' with a total transaction value of {highest_transaction_value} units.\")"
   ]
  },
  {
   "cell_type": "raw",
   "id": "843d3ea7-b5a4-463f-9437-bc20641d0a34",
   "metadata": {},
   "source": [
    "Observation: Sarah Nguyen stands out as the customer with the highest transaction value, totaling 21569 units. This indicates a strong business relationship, possibly suggesting that he is a key client for the company.\n",
    "\n",
    "Managerial Insight: Given Sarah Nguyen's significant contribution to transaction value, it would be prudent to foster this relationship further through personalized communication, loyalty incentives, or tailored offerings. Engaging with top customers can enhance customer satisfaction and retention, ultimately driving revenue growth for the business."
   ]
  },
  {
   "cell_type": "code",
   "execution_count": 75,
   "id": "22b51912-75dc-4241-a327-5f3686d56e3b",
   "metadata": {},
   "outputs": [
    {
     "name": "stdout",
     "output_type": "stream",
     "text": [
      "The customs code used most frequently is 800344 with 2 occurrences.\n"
     ]
    }
   ],
   "source": [
    "#The most frequent customs code used in transactions\n",
    "\n",
    "customs_code_count = my_sample['Customs_Code'].value_counts()\n",
    "\n",
    "most_used_customs_code = customs_code_count.idxmax()\n",
    "most_used_customs_code_count = customs_code_count.max()\n",
    "\n",
    "\n",
    "print(f\"The customs code used most frequently is {most_used_customs_code} with {most_used_customs_code_count} occurrences.\")"
   ]
  },
  {
   "cell_type": "raw",
   "id": "3c472c77-698d-4507-bcbe-cb1207f240a7",
   "metadata": {},
   "source": [
    "Observation: The customs code 800344 is the most frequently used in transactions, occurring twice. This may indicate a common product or service type associated with this code.\n",
    "\n",
    "Managerial Insight: Given the frequent use of customs code 800344, management should analyze the associated products or services to identify opportunities for optimization, such as bulk purchasing agreements or targeted marketing strategies. Additionally, understanding the reasons behind its prevalence can help streamline processes and enhance compliance with customs regulations."
   ]
  },
  {
   "cell_type": "code",
   "execution_count": 77,
   "id": "42f44753-ed4e-4e06-86f2-fc4ba418b9ec",
   "metadata": {},
   "outputs": [
    {
     "name": "stdout",
     "output_type": "stream",
     "text": [
      "      Payment_Terms       Value\n",
      "0  Cash on Delivery  3826919.39\n",
      "1            Net 30  3747721.68\n",
      "2            Net 60  3639934.03\n",
      "3           Prepaid  3864146.76\n"
     ]
    }
   ],
   "source": [
    "#The total value of transactions grouped by payment terms\n",
    "\n",
    "total_value_by_payment_terms = my_sample.groupby('Payment_Terms')['Value'].sum()\n",
    "\n",
    "total_value_by_payment_terms = total_value_by_payment_terms.reset_index()\n",
    "\n",
    "print(total_value_by_payment_terms)"
   ]
  },
  {
   "cell_type": "raw",
   "id": "c9c95857-0c7b-49a5-b311-e7ee32be28fc",
   "metadata": {},
   "source": [
    "Observation: The total value of transactions shows that \"Prepaid\" payment terms have the highest transaction value at approximately 3864146.76 units, closely followed by \"Cash on Delivery\" at around 3826919.39 units. \"Net 60\" and \"Net 30\" have lower transaction values.\n",
    "\n",
    "Managerial Insight: The dominance of \"Prepaid\" payment terms suggests that customers may prefer longer payment cycles, which could affect cash flow. Management should evaluate the implications of these terms on liquidity and consider strategies to encourage the adoption of more immediate payment methods, like \"Cash on Delivery\" to enhance cash flow and reduce financial risk."
   ]
  },
  {
   "cell_type": "code",
   "execution_count": 79,
   "id": "eadfa7bc-a25a-474c-9e96-47c53b9ceb80",
   "metadata": {},
   "outputs": [
    {
     "name": "stdout",
     "output_type": "stream",
     "text": [
      "      Category  Total Transaction Value  Average Transaction Value  \\\n",
      "0     Clothing               3121799.60                4994.879360   \n",
      "1  Electronics               2972166.55                5063.316099   \n",
      "2    Furniture               3061419.53                5119.430652   \n",
      "3    Machinery               3114174.35                5006.711174   \n",
      "4         Toys               2809161.83                4937.015518   \n",
      "\n",
      "   Transaction Count  \n",
      "0                625  \n",
      "1                587  \n",
      "2                598  \n",
      "3                622  \n",
      "4                569  \n"
     ]
    }
   ],
   "source": [
    "#How does the value of transactions vary by product category?\n",
    "\n",
    "transaction_value_by_category = my_sample.groupby('Category')['Value'].agg(['sum', 'mean', 'count']).reset_index()\n",
    "\n",
    "transaction_value_by_category.columns = ['Category', 'Total Transaction Value', 'Average Transaction Value', 'Transaction Count']\n",
    "\n",
    "print(transaction_value_by_category)"
   ]
  },
  {
   "cell_type": "raw",
   "id": "96246991-4f82-45b2-bf08-45bc5c806b4c",
   "metadata": {},
   "source": [
    "Observation: The analysis reveals that the \"Clothing\" category has the highest total transaction value at approximately 3121799.6 units, despite having a slightly lower average transaction value compared to categories like \"Electronics\" and \"Furniture.\" All categories show a significant number of transactions, with \"Clothing\" having the highest transaction count.\n",
    "\n",
    "Managerial Insight: The prominence of the \"Clothing\" category in total transaction value indicates a strong market demand, suggesting that resources should be allocated to enhance supply chain efficiency and product availability in this category. Additionally, the relatively high average transaction values in categories like \"Electronics\" may present opportunities for targeted marketing strategies to boost sales and customer engagement further."
   ]
  },
  {
   "cell_type": "code",
   "execution_count": 81,
   "id": "a148d254-9bd5-4620-822b-5adf6066f298",
   "metadata": {},
   "outputs": [
    {
     "name": "stdout",
     "output_type": "stream",
     "text": [
      "Yearly Transaction Count (Imports vs Exports):\n",
      "     Year Import_Export  Transaction_ID\n",
      "0   2019        Export              90\n",
      "1   2019        Import              95\n",
      "2   2020        Export             320\n",
      "3   2020        Import             316\n",
      "4   2021        Export             297\n",
      "5   2021        Import             274\n",
      "6   2022        Export             326\n",
      "7   2022        Import             292\n",
      "8   2023        Export             302\n",
      "9   2023        Import             335\n",
      "10  2024        Export             175\n",
      "11  2024        Import             179\n",
      "\n",
      "Monthly Transaction Count (Imports vs Exports):\n",
      "      Year  Month Import_Export  Transaction_ID\n",
      "0    2019      9        Export              20\n",
      "1    2019      9        Import              20\n",
      "2    2019     10        Export              28\n",
      "3    2019     10        Import              30\n",
      "4    2019     11        Export              20\n",
      "..    ...    ...           ...             ...\n",
      "117  2024      7        Import              22\n",
      "118  2024      8        Export              21\n",
      "119  2024      8        Import              27\n",
      "120  2024      9        Export               6\n",
      "121  2024      9        Import               1\n",
      "\n",
      "[122 rows x 4 columns]\n"
     ]
    }
   ],
   "source": [
    "#How has the transaction count for imports and exports changed over time (monthly/yearly)?\n",
    "\n",
    "my_sample['Date'] = pd.to_datetime(my_sample['Date'])\n",
    "\n",
    "my_sample['Year'] = my_sample['Date'].dt.year\n",
    "my_sample['Month'] = my_sample['Date'].dt.month\n",
    "\n",
    "yearly_transaction_count = my_sample.groupby(['Year', 'Import_Export'])['Transaction_ID'].count().reset_index()\n",
    "\n",
    "monthly_transaction_count = my_sample.groupby(['Year', 'Month', 'Import_Export'])['Transaction_ID'].count().reset_index()\n",
    "\n",
    "print(\"Yearly Transaction Count (Imports vs Exports):\\n\", yearly_transaction_count)\n",
    "print(\"\\nMonthly Transaction Count (Imports vs Exports):\\n\", monthly_transaction_count)"
   ]
  },
  {
   "cell_type": "raw",
   "id": "a4037b82-1bd0-4aa0-940a-67b6bf79f3d0",
   "metadata": {},
   "source": [
    "Observation: The yearly transaction count indicates a general upward trend in both imports and exports from 2019 to 2024, with imports consistently outpacing exports. Notably, in 2022, both imports and exports saw a peak in transaction counts, while exports dipped in 2024.\n",
    "\n",
    "Managerial Insight: The growth in import transactions suggests a robust demand for imported goods, indicating potential opportunities to strengthen supplier relationships and optimize inventory management. Additionally, the decline in export transactions in 2024 could signal the need for a strategic review of international market engagement and targeted marketing efforts to boost export performance."
   ]
  },
  {
   "cell_type": "code",
   "execution_count": 83,
   "id": "1f38eb70-8a89-4b82-ac89-0e5bd375e51a",
   "metadata": {},
   "outputs": [
    {
     "name": "stdout",
     "output_type": "stream",
     "text": [
      "The most commonly exported product is 'model' with 7 exports.\n"
     ]
    }
   ],
   "source": [
    "#Most commonly exported product\n",
    "\n",
    "exports = my_sample[my_sample['Import_Export'] == 'Export']\n",
    "\n",
    "export_product_count = exports['Product'].value_counts()\n",
    "\n",
    "most_exported_product = export_product_count.idxmax()\n",
    "most_exported_product_count = export_product_count.max()\n",
    "\n",
    "\n",
    "print(f\"The most commonly exported product is '{most_exported_product}' with {most_exported_product_count} exports.\")\n"
   ]
  },
  {
   "cell_type": "raw",
   "id": "309d5045-a3bc-4fcf-a89d-152f44f2ee57",
   "metadata": {},
   "source": [
    "Observation: The data reveals that the product labeled 'model' is the most commonly exported item, with a total of 7 exports. This indicates a concentrated preference for this product in international markets, albeit with a relatively low export volume.\n",
    "\n",
    "Managerial Insight: The limited number of exports for the most commonly exported product suggests an opportunity to expand marketing efforts and enhance distribution channels for 'model.' By analyzing market demand and potential barriers to entry in new regions, management could leverage this product to boost overall export volume and revenue."
   ]
  },
  {
   "cell_type": "code",
   "execution_count": 85,
   "id": "6e02fb2b-ce8c-4f67-9bfd-ec1bfc346d1d",
   "metadata": {},
   "outputs": [
    {
     "name": "stdout",
     "output_type": "stream",
     "text": [
      "Mean: 5024.565764745084\n",
      "Median: 5062.13\n",
      "Mode: 1861.51\n"
     ]
    }
   ],
   "source": [
    "#The mean, median, and mode of transaction values across all transactions\n",
    "\n",
    "mean_value = my_sample['Value'].mean()\n",
    "median_value = my_sample['Value'].median()\n",
    "mode_value = my_sample['Value'].mode()[0]\n",
    "\n",
    "print(\"Mean:\", mean_value)\n",
    "print(\"Median:\", median_value)\n",
    "print(\"Mode:\", mode_value)"
   ]
  },
  {
   "cell_type": "raw",
   "id": "faa2d57a-2f6a-4cd4-81b9-daaa7a5c9553",
   "metadata": {},
   "source": [
    "Observation: The mean transaction value is approximately 5024.5657, while the median is 5062.13, and the mode is 1861.51. This suggests that most transactions are centered around similar values, with a slight skew toward lower transaction amounts.\n",
    "\n",
    "Managerial Insight: With the mode significantly lower than the mean, it indicates that a large number of transactions are at the lower end of the value spectrum. Management might focus on increasing the transaction value for the majority of lower-end transactions by upselling or offering value-added services to boost overall revenue."
   ]
  },
  {
   "cell_type": "code",
   "execution_count": 87,
   "id": "ee798b2c-4f47-4e4d-9636-89564a2419f3",
   "metadata": {},
   "outputs": [
    {
     "name": "stdout",
     "output_type": "stream",
     "text": [
      "                    mean    median\n",
      "Category                          \n",
      "Clothing     4994.879360  5020.950\n",
      "Electronics  5063.316099  4955.200\n",
      "Furniture    5119.430652  5164.985\n",
      "Machinery    5006.711174  4999.295\n",
      "Toys         4937.015518  5158.860\n"
     ]
    }
   ],
   "source": [
    "#the mean and median transaction value by product category\n",
    "\n",
    "mean_median_by_category = my_sample.groupby('Category')['Value'].agg(['mean', 'median'])\n",
    "print(mean_median_by_category)"
   ]
  },
  {
   "cell_type": "raw",
   "id": "1c1febef-be87-4799-afeb-1e2dda4dc672",
   "metadata": {},
   "source": [
    "Observation: The product categories show relatively similar mean and median transaction values, with Furniture having the highest mean value (5119.430652) and Furniture having the highest median value (5164.985).\n",
    "\n",
    "Managerial Insight: Furniture, with the highest mean transaction value, may offer an opportunity to focus on high-value transactions. Management could explore targeted marketing strategies to increase sales in this category, as it has the potential to contribute the most revenue per transaction.\n",
    "\n"
   ]
  },
  {
   "cell_type": "code",
   "execution_count": 89,
   "id": "f966a2ea-e99d-4d54-8733-0023ee91bc90",
   "metadata": {},
   "outputs": [
    {
     "name": "stdout",
     "output_type": "stream",
     "text": [
      "Range of Weight: 4997.540000000001\n",
      "Standard Deviation of Weight: 1442.711941025913\n",
      "Variance of Weight: 2081417.744778757\n"
     ]
    }
   ],
   "source": [
    "#The range, standard deviation, and variance of the weight of shipped products\n",
    "\n",
    "weight_range = my_sample['Weight'].max() - my_sample['Weight'].min()\n",
    "weight_std = my_sample['Weight'].std()\n",
    "weight_var = my_sample['Weight'].var()\n",
    "\n",
    "print(\"Range of Weight:\", weight_range)\n",
    "print(\"Standard Deviation of Weight:\", weight_std)\n",
    "print(\"Variance of Weight:\", weight_var)"
   ]
  },
  {
   "cell_type": "raw",
   "id": "1928d1e4-62eb-49fb-a85f-96e0df39a716",
   "metadata": {},
   "source": [
    "Observation: The weight of shipped products shows significant variability, with a large range (4997.54units), a high standard deviation (1442.71), and substantial variance (2081417.74), indicating wide fluctuations in shipment sizes.\n",
    "\n",
    "Managerial Insight: Given the high variability in shipment weights, optimizing logistics based on product weight could reduce shipping costs. Management might consider implementing weight-based pricing models or streamlining shipments to achieve more consistent load sizes."
   ]
  },
  {
   "cell_type": "code",
   "execution_count": 91,
   "id": "1ed2ebd4-6a64-4d8b-ad88-0a9d30a40d81",
   "metadata": {},
   "outputs": [
    {
     "name": "stdout",
     "output_type": "stream",
     "text": [
      "Skewness of Export Transaction Values: 0.009911549637440014\n",
      "Kurtosis of Export Transaction Values: -1.1801646585609522\n"
     ]
    }
   ],
   "source": [
    "#the skewness and kurtosis of transaction values for exports\n",
    "\n",
    "export_data = my_sample[my_sample['Import_Export'] == 'Export']\n",
    "skewness = skew(export_data['Value'])\n",
    "kurt = kurtosis(export_data['Value'])\n",
    "\n",
    "print(\"Skewness of Export Transaction Values:\", skewness)\n",
    "print(\"Kurtosis of Export Transaction Values:\", kurt)"
   ]
  },
  {
   "cell_type": "raw",
   "id": "a47fdd16-85f2-48a0-91e4-f5b155fc1114",
   "metadata": {},
   "source": [
    "Observation: The skewness of export transaction values is close to zero (0.009911), suggesting a nearly symmetrical distribution. The negative kurtosis (-1.1801) indicates that the distribution is flatter than a normal distribution, with fewer extreme values.\n",
    "\n",
    "Managerial Insight: Since export transaction values are relatively symmetrically distributed and lack extreme outliers, management can expect consistent transaction values. This stability could aid in more reliable revenue forecasting and budgeting for export-related operations."
   ]
  },
  {
   "cell_type": "code",
   "execution_count": 93,
   "id": "8f9056d2-ae34-4538-8161-c49c4c1bf519",
   "metadata": {},
   "outputs": [
    {
     "name": "stdout",
     "output_type": "stream",
     "text": [
      "Coefficient of variation: 58.330047674327076\n"
     ]
    }
   ],
   "source": [
    "#the coefficient of variation for the quantity of exported products\n",
    "\n",
    "export_data = my_sample[my_sample['Import_Export'] == 'Export']\n",
    "mean = np.mean(export_data['Quantity'])\n",
    "std_dev = np.std(export_data['Quantity'], ddof=1) \n",
    "coefficient_of_variation = (std_dev / mean) * 100\n",
    "print (\"Coefficient of variation:\", coefficient_of_variation)"
   ]
  },
  {
   "cell_type": "raw",
   "id": "8ec650f9-2b16-4575-ae1f-289bd8dab2d4",
   "metadata": {},
   "source": [
    "Observation: The coefficient of variation for the quantity of exported products is 58.33%, indicating a moderate to high level of variability in the quantities of products exported.\n",
    "\n",
    "Managerial Insight: The high variability in export quantities suggests that export volumes are inconsistent across transactions. This could signal the need for better demand forecasting or supply chain optimization to reduce fluctuations and maintain steadier export flows."
   ]
  },
  {
   "cell_type": "code",
   "execution_count": 95,
   "id": "f6592580-b987-4e54-ad8c-cb587c5ad829",
   "metadata": {},
   "outputs": [
    {
     "name": "stdout",
     "output_type": "stream",
     "text": [
      "Levene's Test Statistic: 0.5795768543610814\n",
      "P-Value: 0.677460314891204\n",
      "Fail to reject the null hypothesis: Variances are not significantly different.\n"
     ]
    }
   ],
   "source": [
    "#Levene’s test to determine if the variance in transaction values differs significantly between product categories\n",
    "`\n",
    "grouped_data = [group['Value'].values for name, group in my_sample.groupby('Category')]\n",
    "statistic, p_value = levene(*grouped_data)\n",
    "print(f\"Levene's Test Statistic: {statistic}\")\n",
    "print(f\"P-Value: {p_value}\")\n",
    "\n",
    "alpha = 0.05  # significance level\n",
    "if p_value < alpha:\n",
    "    print(\"Reject the null hypothesis: Variances are significantly different.\")\n",
    "else:\n",
    "    print(\"Fail to reject the null hypothesis: Variances are not significantly different.\")"
   ]
  },
  {
   "cell_type": "raw",
   "id": "2336d376-7f73-42bd-b5eb-201ca44f1050",
   "metadata": {},
   "source": [
    "Observation: Levene's test reveals a p-value of 0.677, indicating that the variances in transaction values between product categories are not significantly different at a 5% significance level.\n",
    "\n",
    "Managerial Insight: Since the transaction value variances across product categories are relatively consistent, pricing or cost management strategies can be uniformly applied across categories without concern for drastic variability.\n",
    "\n"
   ]
  },
  {
   "cell_type": "code",
   "execution_count": 97,
   "id": "6d168acf-6097-47ee-b0e4-7712b9a2f83e",
   "metadata": {},
   "outputs": [
    {
     "name": "stdout",
     "output_type": "stream",
     "text": [
      "Shapiro-Wilk Test Statistic: 0.955764707731763\n",
      "P-Value: 2.894898236671382e-29\n",
      "Reject the null hypothesis: The distribution is not normally distributed.\n"
     ]
    }
   ],
   "source": [
    "#Shapiro-Wilk test to check if the distribution of transaction values is normally distributed\n",
    "\n",
    "statistic, p_value = shapiro(my_sample['Value'])\n",
    "\n",
    "print(f\"Shapiro-Wilk Test Statistic: {statistic}\")\n",
    "print(f\"P-Value: {p_value}\")\n",
    "\n",
    "alpha = 0.05  # significance level\n",
    "if p_value < alpha:\n",
    "    print(\"Reject the null hypothesis: The distribution is not normally distributed.\")\n",
    "else:\n",
    "    print(\"Fail to reject the null hypothesis: The distribution is normally distributed.\")"
   ]
  },
  {
   "cell_type": "raw",
   "id": "c167f259-3364-4d41-8040-e337970ac28c",
   "metadata": {},
   "source": [
    "Observation: The Shapiro-Wilk test shows a p-value of approximately 0, indicating that the transaction values are not normally distributed.\n",
    "\n",
    "Managerial Insight: Since the distribution of transaction values is not normal, it may be more effective to use non-parametric statistical methods for analysis and decision-making, particularly when assessing transaction trends and customer behaviors."
   ]
  },
  {
   "cell_type": "code",
   "execution_count": 52,
   "id": "6814e644-5cd8-46ca-8772-634b815011a5",
   "metadata": {},
   "outputs": [
    {
     "data": {
      "text/plain": [
       "DeltaGenerator()"
      ]
     },
     "execution_count": 52,
     "metadata": {},
     "output_type": "execute_result"
    }
   ],
   "source": [
    "# Streamlit app title\n",
    "st.title(\"Imports and Exports Data Visualization\")\n"
   ]
  },
  {
   "cell_type": "code",
   "execution_count": 54,
   "id": "5d67f9e4-fa68-4176-b5c7-025c0b63cefb",
   "metadata": {},
   "outputs": [],
   "source": [
    "# Convert 'Date' column to datetime\n",
    "df['Date'] = pd.to_datetime(df['Date'], format='%d-%m-%Y')"
   ]
  },
  {
   "cell_type": "code",
   "execution_count": 56,
   "id": "e7f56750-8316-46a0-a088-ac842a014b71",
   "metadata": {},
   "outputs": [
    {
     "data": {
      "text/plain": [
       "DeltaGenerator()"
      ]
     },
     "execution_count": 56,
     "metadata": {},
     "output_type": "execute_result"
    }
   ],
   "source": [
    "# Streamlit app title\n",
    "st.title(\"Top 10 Countries by Total Exports/Imports\")\n",
    "\n",
    "# Group by 'Country' and sum the 'Quantity', then select the top 10 countries\n",
    "country_summary = df.groupby('Country')['Quantity'].sum().sort_values(ascending=False).head(10)\n",
    "\n",
    "# Create a figure and axis for the plot\n",
    "fig, ax = plt.subplots()\n",
    "\n",
    "# Bar chart for the top 10 countries\n",
    "ax.bar(country_summary.index, country_summary.values, color='lightblue')\n",
    "\n",
    "# Rotate x-axis labels for better readability\n",
    "plt.xticks(rotation=45, ha='right')\n",
    "\n",
    "# Set titles and labels\n",
    "ax.set_title('Top 10 Countries by Total Exports/Imports')\n",
    "ax.set_xlabel('Country')\n",
    "ax.set_ylabel('Total Quantity')\n",
    "\n",
    "# Use st.pyplot() to display the figure in Streamlit\n",
    "st.pyplot(fig)"
   ]
  },
  {
   "cell_type": "code",
   "execution_count": 58,
   "id": "1ae723ec-47cd-4b16-a07e-9ae6db9882e5",
   "metadata": {},
   "outputs": [
    {
     "data": {
      "text/plain": [
       "DeltaGenerator()"
      ]
     },
     "execution_count": 58,
     "metadata": {},
     "output_type": "execute_result"
    }
   ],
   "source": [
    "# 2. Pie Chart - Distribution of Shipping Methods\n",
    "st.header(\"Distribution of Shipping Methods\")\n",
    "shipping_method_counts = df['Shipping_Method'].value_counts()\n",
    "\n",
    "fig2, ax2 = plt.subplots()\n",
    "ax2.pie(shipping_method_counts, labels=shipping_method_counts.index, autopct='%1.1f%%', startangle=90, colors=['lightgreen', 'lightblue', 'lightcoral'])\n",
    "ax2.axis('equal')  # Equal aspect ratio ensures the pie is drawn as a circle.\n",
    "st.pyplot(fig2)"
   ]
  },
  {
   "cell_type": "code",
   "execution_count": 60,
   "id": "da959620-758c-4a6e-ac45-64b18e03a74c",
   "metadata": {},
   "outputs": [
    {
     "data": {
      "text/plain": [
       "DeltaGenerator()"
      ]
     },
     "execution_count": 60,
     "metadata": {},
     "output_type": "execute_result"
    }
   ],
   "source": [
    "# 3. Line Plot - Total Value of Exports/Imports Over Time\n",
    "st.header(\"Trend of Total Value of Exports/Imports Over Time\")\n",
    "df['YearMonth'] = df['Date'].dt.to_period('M')  # Grouping by Year-Month\n",
    "time_series = df.groupby('YearMonth')['Value'].sum()\n",
    "\n",
    "fig3, ax3 = plt.subplots()\n",
    "time_series.plot(kind='line', ax=ax3, marker='o', color='coral')\n",
    "ax3.set_title('Total Value of Exports/Imports Over Time')\n",
    "ax3.set_xlabel('Date')\n",
    "ax3.set_ylabel('Total Value')\n",
    "st.pyplot(fig3)"
   ]
  },
  {
   "cell_type": "code",
   "execution_count": null,
   "id": "097799fc-446c-44c0-a59b-6d0f5c3afc65",
   "metadata": {},
   "outputs": [],
   "source": []
  }
 ],
 "metadata": {
  "kernelspec": {
   "display_name": "Python 3 (ipykernel)",
   "language": "python",
   "name": "python3"
  },
  "language_info": {
   "codemirror_mode": {
    "name": "ipython",
    "version": 3
   },
   "file_extension": ".py",
   "mimetype": "text/x-python",
   "name": "python",
   "nbconvert_exporter": "python",
   "pygments_lexer": "ipython3",
   "version": "3.12.4"
  }
 },
 "nbformat": 4,
 "nbformat_minor": 5
}
